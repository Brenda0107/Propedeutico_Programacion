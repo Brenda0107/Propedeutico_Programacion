{
 "cells": [
  {
   "cell_type": "markdown",
   "id": "38dbed1d",
   "metadata": {},
   "source": [
    "# TEORÍA\n",
    "<img src=\"https://content.app-sources.com/s/0516204997382685/uploads/Images/6hhC835tqWPkfaE3hJuO-4987806.png\" \n",
    "     align=\"center\" \n",
    "     width=\"350\" />\n",
    "     \n",
    "## Programación\n",
    "Es el *proceso* de crear un conjunto de instrucciones que le dicen a la computadora que hacer. Incluye todas las tareas necesarias para que el código funcione correctamente y cumpla el objetivo para el cual se escribió.\n",
    "## Lenguaje de programación\n",
    "<img src=\"https://kinsta.com/wp-content/uploads/2021/03/the-most-popular-programming-languages-to-learn.png\" \n",
    "     width=\"350\" />\n",
    "Es una herramienta que permite desarrollar software o programas para computadora.  \n",
    "Los lenguajes de programación constan de: \n",
    "- Un conjunto finito de símbolos, a partir del cual se define el vocabulario del lenguaje. Ejemplos:  \n",
    "`()`, `;`, `[]`, `{}`, `=`, `==`, `!=`, `\"\"`, `''`, `+`, `-`, `\\`\n",
    "- Una **sintaxis**. Indica cómo se tiene que escribir el código\n",
    "- La **semántica**, que asocia un significado a cada posible construcción del lenguaje. \n",
    "Por ejemplo, las siguientes sentencias de programación utilizan diferentes sintaxis (en diferentes lenguajes), pero resultan en la misma semántica (hacen lo mismo):"
   ]
  },
  {
   "cell_type": "markdown",
   "id": "32db511e",
   "metadata": {},
   "source": [
    "```C\n",
    "x += y; /* Lenguajes C, Java, etc */\n",
    "```"
   ]
  },
  {
   "cell_type": "markdown",
   "id": "c78a9efc",
   "metadata": {},
   "source": [
    "```pascal\n",
    "x := x + y; (*Pascal*)\n",
    "```"
   ]
  },
  {
   "cell_type": "markdown",
   "id": "2c92092f",
   "metadata": {},
   "source": [
    "```fortran\n",
    "x = x + y !Fortran, BASIC\n",
    "```"
   ]
  },
  {
   "cell_type": "markdown",
   "id": "d3e8ad35",
   "metadata": {},
   "source": [
    "## Funcionamiento de un programa\n",
    "<img src=\"https://miracomohacerlo.com/wp-content/uploads/mch/laptop-funcionamiento-servidor_270.jpg\" \n",
    "     width=\"350\" />\n",
    "\n",
    "Para crear un programa y que la computadora lo interprete y ejecute, las instrucciones deben escribirse en un lenguaje de programación.\n",
    "\n",
    "El lenguaje que entienden las computadoras es el **Lenguaje máquina** porque es el único sistema que puede interpretar el **circuito microprogramable** (cadenas de `0` y `1`). Al inicio de la programación todo se hacía en código máquina, pero era muy complicado, dificil de entender y de mantenerlos una vez escritos.\n",
    "\n",
    "Con el tiempo se comenzaron a reemplazar las secuencias de `0` y `1` por abreviaciones en inglés de la función que cumple una instrucción en el procesador. Así fue como se creó un lenguaje de mayor nivel conocido como **lenguaje ensamblador**. Este es un **lenguaje de bajo nivel**, esto quiere decir que expresa las instrucciones de una forma más natural al hombre a la vez que muy cercana al microcontrolador, ya que cada una de esas instrucciones se corresponde con otra en código máquina.  Con el tiempo se le añadieron más cosas pero siempre tuvo una correspondencia directa con las instrucciones de procesador.\n",
    "\n",
    "A nivel conceptual, programar en ensamblador es muy similar a hacerlo en lenguaje máquina, solo que de una forma más amigable.\n",
    "\n",
    "A medida que la complejidad de las tareas que realizaban las computadoras aumentaba, el lenguaje ensamblador fue mostrando limitaciones:\n",
    "- Requerían ser programadas por personas especializadas\n",
    "- Resultaba engorroso utilizar ciertas instrucciones\n",
    "- No se podían utilizar en distintos modelos de computadoras  \n",
    "\n",
    "El siguiente paso fue crear los **lenguajes de alto nivel**. Se caracterizan porque su estructura semántica es muy similar a la forma como escriben los humanos, lo que permite codificar los algoritmos de manera más natural, en lugar de codificarlos en el lenguaje binario de las máquinas, o a nivel de lenguaje ensamblador.\n",
    "\n",
    "\n",
    "## Lenguajes de programación <span style=\"color:blue\">interpretados</span> vs <span style=\"color:red\">compilados</span>\n",
    "<img src=\"https://i.ytimg.com/vi/e4ax90XmUBc/maxresdefault.jpg\" \n",
    "     width=\"350\" />\n",
    "\n",
    "Cada programa es un conjunto de instrucciones, ya sea sumar dos números o enviar una petición a través de internet. Los compiladores e intérpretes toman código legible por los humanos y lo convierten en código máquina legible por computadoras.\n",
    "\n",
    "### <span style=\"color:red\">Lenguajes compilados</span>\n",
    "Los lenguajes compilados primero son convertidos directamente a código máquina para después el procesador lo pueda ejecutar. Como resultado, suelen ser más **rápidos** y más **eficientes** al ejecutarse en comparación con los lenguajes interpretados. Una de sus principales desventajas es: el tiempo extra necesario para completar la compilación antes de verificar el funcionamiento del programa.  \n",
    "\n",
    "Los lenguajes compilados necesitan compilarse manualmente (build). Cada vez que se realiza un cambio se debe \"recompilar\". \n",
    "\n",
    "### <span style=\"color:blue\">Lenguajes interpretados</span>\n",
    "Estos lenguajes ejecutan línea por línea el programa y a la vez ejecutan cada comando. Los lenguajes interpretados suelen ser más flexibles, y a menudo ofrecen características como escritura dinámica y tamaño de programa más pequeño. Además, ya que los intérpretes ejecutan el código fuente del programa ellos mismos, el código en sí es independiente de la plataforma. La desventaja más notable es la velocidad de ejecución típica comparada con los lenguajes compilados.\n",
    "\n",
    "## Proceso de compilación\n",
    "<img src=\"https://cdn.dribbble.com/users/518545/screenshots/14382301/media/f361c5951fbda0a680fae5ea41d94f8b.png?compress=1&resize=400x300\" \n",
    "     width=\"350\" />\n",
    "\n",
    "Un compilador es un programa que traduce código escrito en un lenguaje de programación (llamado fuente) a otro lenguaje (conocido como objeto). En este tipo de traductor el lenguaje fuente es generalmente un lenguaje de alto nivel y el objeto un lenguaje de bajo nivel, como código máquina. Este proceso de traducción se conoce como **compilación**.\n",
    "\n",
    "En general el proceso de compilación cuenta de dos fases que son:\n",
    "\n",
    "### Fase de análisis\n",
    "Aquí comprueba que se utilicen los símbolos de la manera que se debe (teoría de lenguajes formales). En el análisis se incluyen las fases de:\n",
    "\n",
    "- **Análisis léxico**: El análisis léxico constituye la primera fase, aquí se lee el programa fuente de izquierda a derecha y se agrupa en componentes léxicos (tokens), que son secuencias de caracteres que tienen un significado. Todos los espacios en blanco, líneas en blanco, comentarios y demás información innecesaria se elimina del programa fuente. También se comprueba que los símbolos del lenguaje se han escrito correctamente.\n",
    "- **Análisis sintáctico**: En esta fase los caracteres o componentes léxicos se agrupan jerárquicamente en frases gramaticales que el compilador utiliza para sintetizar la salida. Se comprueba si lo obtenido de la fase anterior es sintácticamente correcto (obedece a la gramática del lenguaje). Por lo general, las frases gramaticales del programa fuente se representan mediante un árbol de análisis sintáctico.\n",
    "- **Análisis semántico**: La fase de análisis semántico revisa el programa fuente para tratar de encontrar errores semánticos y reúne la información sobre los tipos para la fase posterior de generación de código. En ella se utiliza la estructura jerárquica determinada por la fase de análisis sintáctico para identificar los operadores y operandos de expresiones y proposiciones.\n",
    "\n",
    "### Fase de síntesis\n",
    "Consiste en generar el código objeto equivalente al programa fuente. Solo se generará código objeto cuando el programa fuente está libre de errores de análisis.\n",
    "\n",
    "El resultado puede ser lenguaje de máquina o código ensamblador. Las posiciones de memoria se seleccionan para cada una de las variables usadas por el programa. Después, cada una de las instrucciones intermedias se traduce a una secuencia de instrucciones de máquina que ejecuta la misma tarea. Un aspecto decisivo es la asignación de variables a registros.\n",
    "\n",
    "### En resumen: \n",
    "Se tiene el código fuente $\\rightarrow $   Se pasa al compilador $\\rightarrow $   El compilador encuentra tokens (análisis léxico) $\\rightarrow $   Analiza gramaticalmente (análisis sintáctico) $\\rightarrow $  Contextualiza (análisis semántico) $\\rightarrow$   Genera código máquina"
   ]
  },
  {
   "cell_type": "markdown",
   "id": "ffd76d2b",
   "metadata": {},
   "source": [
    "<h1 style='text-align: center;'> Python </h1>\n",
    "\n",
    "<img src=\"https://robocrop.realpython.net/?url=https%3A//files.realpython.com/media/Newbie_Watermarked.a9319218252a.jpg&w=640&sig=abba3266bd137ae74b662e7629797e91a50b61b8\" \n",
    "     width=\"350\" />\n",
    "\n",
    "Python es un lenguaje de programación de **alto nivel** que se utiliza para desarrollar aplicaciones de todo tipo. Se trata de un lenguaje **interpretado** que es sencillo de leer y escribir por su alta similitud con el lenguaje humano, es multiplataforma de **código abierto**.\n",
    "\n",
    "Se ha vuelto popular por su **sencillez** y a sus **amplias posibilidades**, sobre todo en los últimos años, ya que facilita trabajar con inteligencia artificial, big data, machine learning y data science, entre muchos otros campos en auge. "
   ]
  },
  {
   "cell_type": "markdown",
   "id": "a3879f48",
   "metadata": {},
   "source": [
    "# Variables\n",
    "<img src=\"https://files.realpython.com/media/Basic-Data-Types-in-Python_Watermarked.e3dd34457952.jpg\" \n",
    "     width=\"450\" />\n",
    "\n",
    "- Es un nombre dado a un lugar de la memoria.\n",
    "- Una variable se crea en el momento en el que se le asigna un valor.\n",
    "- Es la unidad básica de almacenamiento en un programa.\n",
    "- En Python no necesita declararse el tipo de dato de la variable.\n",
    "- Cuando se realicen operaciones con variables, todas deben de ser del mismo tipo.\n",
    "\n",
    "<img src = 'https://www.processmaker.com/wp-content/uploads/2021/02/business-rules-engine-scaled.jpg'\n",
    "     width = '350'>\n",
    "\n",
    "- El nombre de la variable debe comenzar con una letra o guión bajo.\n",
    "- No puede comenzar con un número.\n",
    "- Solo puede contener: letras A-Z, números 0-9 y _\n",
    "- Los nombres de las variables son sensibles a mayúsculas y minúsculas (nombre, Nombre y NOMBRE son tres variables distintas)\n",
    "- Las palabras reservadas no pueden ser usadas como variables\n",
    "\n"
   ]
  },
  {
   "cell_type": "markdown",
   "id": "5b853860",
   "metadata": {},
   "source": [
    "### Definir tipo de variable\n",
    "Una variable en `C` se declara de la siguiente manera:"
   ]
  },
  {
   "cell_type": "markdown",
   "id": "ba7bfaa9",
   "metadata": {},
   "source": [
    "```C\n",
    "int x=10;\n",
    "str y=\"hola mundo\";\n",
    "```"
   ]
  },
  {
   "cell_type": "markdown",
   "id": "c0a7a5ce",
   "metadata": {},
   "source": [
    "- Tipo de variable: `int`, `str` \n",
    "- Nombre de la variable: `x`, `y`\n",
    "- Valor: `10`, `'hola mundo'`"
   ]
  },
  {
   "cell_type": "markdown",
   "id": "5e68ab5d",
   "metadata": {},
   "source": [
    "Por otro lado, en Python **no** se **definen variables**.  \n",
    "Ejemplos:"
   ]
  },
  {
   "cell_type": "code",
   "execution_count": 1,
   "id": "3df36650",
   "metadata": {},
   "outputs": [
    {
     "name": "stdout",
     "output_type": "stream",
     "text": [
      "10\n",
      "<class 'int'>\n",
      "Hola mundo\n",
      "<class 'str'>\n",
      "3.14\n",
      "<class 'float'>\n"
     ]
    }
   ],
   "source": [
    "x = 10\n",
    "y = \"Hola mundo\" \n",
    "z = 3.14\n",
    "print(x)\n",
    "print(type(x))\n",
    "print(y)\n",
    "print(type(y))\n",
    "print(z)\n",
    "print(type(z))"
   ]
  },
  {
   "cell_type": "markdown",
   "id": "9224a8e8",
   "metadata": {},
   "source": [
    "###### Observar que:\n",
    "No se especifica el tipo pero Python interpreta al valor `10` como uno de tipo `int`, el valor de `\"Hola mundo\"` como tipo `str` y a `3.14` de tipo `float`\n",
    "\n",
    "__________________________________________________________________\n",
    "En algunas ocaciones de desea trabajar con algunas variables de tipo numérico como si estas fueran cadenas de texto, para poder mostrar algún mensaje en pantalla, etc. \n",
    "\n",
    "Para estos casos se puede definir el tipo de variable al momento de asignarle un valor. "
   ]
  },
  {
   "cell_type": "code",
   "execution_count": 2,
   "id": "c784ba22",
   "metadata": {},
   "outputs": [
    {
     "name": "stdout",
     "output_type": "stream",
     "text": [
      "<class 'str'>\n",
      "<class 'int'>\n",
      "<class 'float'>\n"
     ]
    }
   ],
   "source": [
    "x = str(3)      \n",
    "y = int(3)      \n",
    "z = float(3)   \n",
    "print(type(x))\n",
    "print(type(y))\n",
    "print(type(z))"
   ]
  },
  {
   "cell_type": "markdown",
   "id": "06246b44",
   "metadata": {},
   "source": [
    "### Asignar distintos valores a varias variables\n",
    "En Python se pueden definir en una sola línea de código variables de distinto tipo y Python reconoce automáticamente el tipo de la variable.\n",
    "\n",
    "**Importante**: El número de variables que se declaran debe ser igual a número de datos que se definen"
   ]
  },
  {
   "cell_type": "code",
   "execution_count": 3,
   "id": "eeca6654",
   "metadata": {},
   "outputs": [
    {
     "name": "stdout",
     "output_type": "stream",
     "text": [
      "1\n",
      "20.2\n",
      "Programación\n",
      "<class 'int'>\n",
      "<class 'float'>\n",
      "<class 'str'>\n"
     ]
    }
   ],
   "source": [
    "a, b, c = 1, 20.2, \"Programación\"\n",
    "print(a)\n",
    "print(b)\n",
    "print(c)\n",
    "print(type(a))\n",
    "print(type(b))\n",
    "print(type(c))"
   ]
  },
  {
   "cell_type": "markdown",
   "id": "6c36a5a9",
   "metadata": {},
   "source": [
    "En **`C`**:"
   ]
  },
  {
   "cell_type": "markdown",
   "id": "208305b6",
   "metadata": {},
   "source": [
    "```C\n",
    "int a=10; int b=3.5; str c=\"Hola mundo\"\n",
    "    \n",
    "int a=10, b=32;\n",
    "```"
   ]
  },
  {
   "cell_type": "markdown",
   "id": "ed558d79",
   "metadata": {},
   "source": [
    "### Operaciones con variables tipo `int` y `float`"
   ]
  },
  {
   "cell_type": "markdown",
   "id": "8f21e124",
   "metadata": {},
   "source": [
    "Si se realizan operaciones entre variables de tipo `int` el resultado también será de tipo `int`"
   ]
  },
  {
   "cell_type": "code",
   "execution_count": 8,
   "id": "58a0bc4c",
   "metadata": {},
   "outputs": [
    {
     "data": {
      "text/plain": [
       "10"
      ]
     },
     "execution_count": 8,
     "metadata": {},
     "output_type": "execute_result"
    }
   ],
   "source": [
    "z1= 5+5\n",
    "z1"
   ]
  },
  {
   "cell_type": "code",
   "execution_count": 9,
   "id": "ff8ef458",
   "metadata": {},
   "outputs": [
    {
     "data": {
      "text/plain": [
       "int"
      ]
     },
     "execution_count": 9,
     "metadata": {},
     "output_type": "execute_result"
    }
   ],
   "source": [
    "type(z1)"
   ]
  },
  {
   "cell_type": "markdown",
   "id": "28d2ccf9",
   "metadata": {},
   "source": [
    "Lo mismo ocurre con las variables tipo `float`. Las operaciones entre variables de tipo `float` arrojan un resultado de tipo `float`"
   ]
  },
  {
   "cell_type": "code",
   "execution_count": 10,
   "id": "a51e5a8e",
   "metadata": {},
   "outputs": [
    {
     "data": {
      "text/plain": [
       "8.6416"
      ]
     },
     "execution_count": 10,
     "metadata": {},
     "output_type": "execute_result"
    }
   ],
   "source": [
    "z2= 3.1416+5.5\n",
    "z2"
   ]
  },
  {
   "cell_type": "code",
   "execution_count": 11,
   "id": "ccd502fd",
   "metadata": {},
   "outputs": [
    {
     "data": {
      "text/plain": [
       "float"
      ]
     },
     "execution_count": 11,
     "metadata": {},
     "output_type": "execute_result"
    }
   ],
   "source": [
    "type(z2)"
   ]
  },
  {
   "cell_type": "markdown",
   "id": "67a26cdc",
   "metadata": {},
   "source": [
    "Ahora, que si se realiza una operación combinando estos dos tipos de variables, el resultado será de tipo `float`"
   ]
  },
  {
   "cell_type": "code",
   "execution_count": 12,
   "id": "ed7222c2",
   "metadata": {},
   "outputs": [
    {
     "data": {
      "text/plain": [
       "13.5"
      ]
     },
     "execution_count": 12,
     "metadata": {},
     "output_type": "execute_result"
    }
   ],
   "source": [
    "z3=3.5+10\n",
    "z3"
   ]
  },
  {
   "cell_type": "code",
   "execution_count": 13,
   "id": "ec742108",
   "metadata": {},
   "outputs": [
    {
     "data": {
      "text/plain": [
       "float"
      ]
     },
     "execution_count": 13,
     "metadata": {},
     "output_type": "execute_result"
    }
   ],
   "source": [
    "type(z3)"
   ]
  },
  {
   "cell_type": "markdown",
   "id": "b925ffd0",
   "metadata": {},
   "source": [
    "### Variables globales\n",
    "Una variable es global siempre y cuando no esté declarada dentro de una función. Puede usarse para todo el código.\n",
    "\n",
    "### Variables locales\n",
    "Son aquellas que se declaran y definen dentro de una **función**. No se encuentran disponibles ni visibles fuera de esta.\n",
    "\n",
    "\n",
    "## Constantes\n",
    "- Son contenedores de datos como las variables.\n",
    "- Es un valor que no puede ser alterado durante la ejecución del programa, sólo puede ser leído.\n",
    "- En Python no existen constantes como tal, ya que se declaran y definen como las variables y estas pueden modificarse.\n",
    "- Por regla general, las constantes (variables en Python) se indican con MAYÚSCULAS"
   ]
  },
  {
   "cell_type": "markdown",
   "id": "29bb8fb5",
   "metadata": {},
   "source": [
    "## Operadores\n",
    "![operadores](https://eltiotech.com/wp-content/uploads/2020/04/08-operadores-matem%C3%A1ticos-300x219.png)\n",
    "Los operadores son símbolos que le indican al intérprete que tipo de cálculo realizar en una expresión.\n",
    "### Operadores aritméticos\n",
    "Los operadores aritméticos se usan para calcular un valor de dos o más números, o cambiar el signo de un número de positivo a negativo o viceversa, al final arroja un resultado. \n",
    "\n",
    "|Operador         | Descripción                                                           |\n",
    "|-----------------|-----------------------------------------------------------------------|\n",
    "|Suma             |Realiza Adición entre los operandos. `a + b`                           |\n",
    "|Resta            |Realiza Substracción entre los operandos. `a - b`                      |\n",
    "|Multiplicación   |Realiza Multiplicación entre los operandos. `a * b`                    |\n",
    "|División         |Realiza División entre los operandos. `a / b`                          |\n",
    "|Módulo           |Realiza un módulo entre los operandos (residuo de la división). `a % b`|\n",
    "|Exponenciación   |Realiza la potencia de los operandos. `a ** b`                         |\n",
    "|División truncada|Realiza la división con resultado de número entero. `a // b`           |"
   ]
  },
  {
   "cell_type": "code",
   "execution_count": 25,
   "id": "590f6fe5",
   "metadata": {},
   "outputs": [
    {
     "name": "stdout",
     "output_type": "stream",
     "text": [
      "A continuación se muestra un ejemplo de cada operador, \n",
      " siendo a = 231 y b = 2 se obtuvo lo siguiente: \n",
      "Suma (+) = 233\n",
      "Resta (-) = 229\n",
      "Multiplicación (*) = 462\n",
      "División (/) = 115.5\n",
      "Módulo (%) = 1\n",
      "Exponenciación (**) = 53361\n",
      "División truncada (//) = 115\n"
     ]
    }
   ],
   "source": [
    "a = 231\n",
    "b = 2\n",
    "op1 = a + b\n",
    "op2 = a - b\n",
    "op3 = a * b\n",
    "op4 = a / b\n",
    "op5 = a % b\n",
    "op6 = a ** b\n",
    "op7 = a // b\n",
    "print(\"A continuación se muestra un ejemplo de cada operador, \\n siendo a = \" + str(a)+ \" y b = \" + str(b)+ \" se obtuvo lo siguiente: \")\n",
    "print(\"Suma (+) = \" +str(op1))\n",
    "print(\"Resta (-) = \" +str(op2))\n",
    "print(\"Multiplicación (*) = \" +str(op3))\n",
    "print(\"División (/) = \" +str(op4))\n",
    "print(\"Módulo (%) = \" +str(op5))\n",
    "print(\"Exponenciación (**) = \" +str(op6))\n",
    "print(\"División truncada (//) = \" +str(op7))"
   ]
  },
  {
   "cell_type": "markdown",
   "id": "dcb79652",
   "metadata": {},
   "source": [
    "### Operadores relacionales\n",
    "|Operador|Descripción|\n",
    "|--------|-----------|\n",
    "|Mayor que|Devuelve `True` si el operador de la izquierda es mayor que el operador de la derecha. `a > b`|\n",
    "|Menor que|Devuelve True si el operador de la derecha es mayor que el operador de la izquierda. `a < b`|\n",
    "|Igual que|Devuelve True si ambos operandos son iguales. `a == b`|\n",
    "|Mayor o igual|Devuelve True si el operador de la izquierda es mayor o igual que el operador de la derecha. `a >= b`|\n",
    "|Menor o igual|Devuelve True si el operador de la derecha es mayor o igual que el operador de la izquierda. `a <= b`|\n",
    "|Distinto de|Devuelve True si ambos operandos no son iguales. `a != b`|"
   ]
  },
  {
   "cell_type": "code",
   "execution_count": 26,
   "id": "e04f3fee",
   "metadata": {
    "scrolled": true
   },
   "outputs": [
    {
     "name": "stdout",
     "output_type": "stream",
     "text": [
      "A continuación se muestra un ejemplo de cada operador, \n",
      " siendo a = 231 y b = 2 se obtuvo lo siguiente: \n",
      "Mayor que (>) = True\n",
      "Menor que (<) = False\n",
      "Igual que (==) = False\n",
      "Mayor o igual (>=) = True\n",
      "Menor o igual (<=) = False\n",
      "Distinto (!=) = True\n"
     ]
    }
   ],
   "source": [
    "a = 231\n",
    "b = 2\n",
    "op12 = a > b\n",
    "op22 = a < b\n",
    "op32 = a == b\n",
    "op42 = a >= b\n",
    "op52 = a <= b\n",
    "op62 = a != b\n",
    "print(\"A continuación se muestra un ejemplo de cada operador, \\n siendo a = \" + str(a)+ \" y b = \" + str(b)+ \" se obtuvo lo siguiente: \")\n",
    "print(\"Mayor que (>) = \" +str(op12))\n",
    "print(\"Menor que (<) = \" +str(op22))\n",
    "print(\"Igual que (==) = \" +str(op32))\n",
    "print(\"Mayor o igual (>=) = \" +str(op42))\n",
    "print(\"Menor o igual (<=) = \" +str(op52))\n",
    "print(\"Distinto (!=) = \" +str(op62))"
   ]
  },
  {
   "cell_type": "markdown",
   "id": "12d6e449",
   "metadata": {},
   "source": [
    "### Operadores de asignación\n",
    "Se utiliza un operador de asignación para asignar valores a una variable. Esto generalmente se combina con otros operadores (como aritmética, bit a bit) donde la operación se realiza en los operandos y el resultado se asigna al operando izquierdo.\n",
    "\n",
    "|Operador|Descripción|\n",
    "|--------|-----------|\n",
    "|$\\color{red}{\\text{=}}$|`a = 231` El valor 231 es asignado a la variable `a`|\n",
    "|$\\color{red}{\\text{+=}}$|`a += 231` es equivalente a `a = a + 231`|\n",
    "|$\\color{red}{\\text{-=}}$|`a -= 231` es equivalente a `a = a - 231`|\n",
    "|$\\color{red}{\\text{*=}}$|`a *= 231` es equivalente a `a = a * 231`|\n",
    "|$\\color{red}{\\text{/=}}$|`a /= 231` es equivalente a `a = a / 231`|\n",
    "|$\\color{red}{\\text{%=}}$|`a %= 231` es equivalente a `a = a % 231`|\n",
    "|$\\color{red}{\\text{**=}}$|`a **= 231` es equivalente a `a = a ** 231`|\n",
    "|$\\color{red}{\\text{//=}}$|`a //= 231` es equivalente a `a = a // 231`|"
   ]
  },
  {
   "cell_type": "markdown",
   "id": "76f94171",
   "metadata": {},
   "source": [
    "### Operadores lógicos\n",
    "Se utiliza un operador lógico para tomar una decisión basada en múltiples condiciones. Los operadores lógicos utilizados en Python son  `and`, `or` y `not`.\n",
    "|Operador|Descripción|\n",
    "|--------|-----------|\n",
    "|$\\color{red}{\\text{and}}$|El resultado es verdadero si ambas expresiones son verdaderas.|\n",
    "|$\\color{red}{\\text{or}}$|El resultado es verdadero si alguna expresión es verdadera.|\n",
    "|$\\color{red}{\\text{not}}$|El resultado invierte la condición de la expresión.|"
   ]
  },
  {
   "cell_type": "markdown",
   "id": "79d94916",
   "metadata": {},
   "source": [
    "### Operadores de pertenencia\n",
    "Un operador de pertenencia se emplea para identificar pertenencia en alguna secuencia (listas, strings, tuplas).\n",
    "\n",
    "- `in` y `not in` son operadores de pertenencia.\n",
    "\n",
    "- `in` devuelve `True` si el valor especificado se encuentra en la secuencia. En caso contrario devuelve `False`."
   ]
  },
  {
   "cell_type": "code",
   "execution_count": 27,
   "id": "6a112b1d",
   "metadata": {},
   "outputs": [
    {
     "name": "stdout",
     "output_type": "stream",
     "text": [
      "Teniendo una lista de números \"a\", \n",
      "¿Se encuentra el número 981 en la lista? \n",
      "True\n"
     ]
    }
   ],
   "source": [
    "a = [1, 5, 6, 8, 65, 981, 34, 987, 13]\n",
    "n1 = 981\n",
    "r1 = n1 in a\n",
    "print(\"Teniendo una lista de números \\\"a\\\", \\n¿Se encuentra el número \" + str(n1)+ \" en la lista? \\n\" + str(r1))"
   ]
  },
  {
   "cell_type": "code",
   "execution_count": 28,
   "id": "8dbe80f0",
   "metadata": {},
   "outputs": [
    {
     "name": "stdout",
     "output_type": "stream",
     "text": [
      "Dentro del enunciado \"a1\", \n",
      "¿Se encuentran los siguientes caracteres: \"Veracruz\" en la lista? \n",
      "False\n"
     ]
    }
   ],
   "source": [
    "a2 = \"in devuelve True si el valor especificado se encuentra en la secuencia. En caso contrario devuelve False\"\n",
    "n2 = \"Veracruz\"\n",
    "r2 = n2 in a2\n",
    "print(\"Dentro del enunciado \\\"a1\\\", \\n¿Se encuentran los siguientes caracteres: \\\"\" + str(n2)+ \"\\\" en la lista? \\n\" + str(r2))"
   ]
  },
  {
   "cell_type": "markdown",
   "id": "aa9973f9",
   "metadata": {},
   "source": [
    "- `not in` devuelve `True` si el valor especificado no se encuentra en la secuencia. En caso contrario devuelve `False`."
   ]
  },
  {
   "cell_type": "code",
   "execution_count": 29,
   "id": "926a6b32",
   "metadata": {},
   "outputs": [
    {
     "name": "stdout",
     "output_type": "stream",
     "text": [
      "Teniendo una lista de números \"a\", \n",
      "¿No se encuentra el número 2 en la lista? \n",
      "True\n"
     ]
    }
   ],
   "source": [
    "a3 = [1, 5, 6, 8, 65, 981, 34, 987, 13]\n",
    "n3 = 2\n",
    "r3 = n3 not in a3\n",
    "print(\"Teniendo una lista de números \\\"a\\\", \\n¿No se encuentra el número \" + str(n3)+ \" en la lista? \\n\" + str(r3))"
   ]
  },
  {
   "cell_type": "code",
   "execution_count": 30,
   "id": "9972c599",
   "metadata": {},
   "outputs": [
    {
     "name": "stdout",
     "output_type": "stream",
     "text": [
      "Dentro del enunciado \"a4\", \n",
      "¿No se encuentran los siguientes caracteres: \"valor\" en la lista? \n",
      "False\n"
     ]
    }
   ],
   "source": [
    "a4 = \"in devuelve True si el valor especificado se encuentra en la secuencia. En caso contrario devuelve False\"\n",
    "n4 = \"valor\"\n",
    "r4 = n4 not in a4\n",
    "print(\"Dentro del enunciado \\\"a4\\\", \\n¿No se encuentran los siguientes caracteres: \\\"\" + str(n4)+ \"\\\" en la lista? \\n\" + str(r4))"
   ]
  },
  {
   "cell_type": "markdown",
   "id": "d323b770",
   "metadata": {},
   "source": [
    "### Operadores de identidad\n",
    "Un operador de identidad se emplea para comprobar si dos variables emplean la misma ubicación en memoria.\n",
    "\n",
    "- `is`y `is not` son operadores de identidad.\n",
    "\n",
    "- `is` devuelve `True` si los operandos se refieren al mismo objeto. En caso contrario devuelve `False`.\n",
    "\n",
    "- `is not` devuelve `True` si los operandos no se refieren al mismo objeto. En caso contrario devuelve `False`.\n",
    "\n",
    "*Nota: Que dos valores sean iguales, no implica necesariamente que sean idénticos.*"
   ]
  },
  {
   "cell_type": "code",
   "execution_count": 31,
   "id": "572706f7",
   "metadata": {},
   "outputs": [
    {
     "name": "stdout",
     "output_type": "stream",
     "text": [
      "¿La variable \"a\" se encuentra en \"b\"? True\n",
      "¿La variable \"a\" no se encuentra en \"b\"? False\n",
      "¿La variable \"a\" no se encuentra en \"c\"? True\n"
     ]
    }
   ],
   "source": [
    "a = 3\n",
    "b = 3  \n",
    "c = 4\n",
    "print(\"¿La variable \\\"a\\\" se encuentra en \\\"b\\\"? \" + str(a is b)) \n",
    "print(\"¿La variable \\\"a\\\" no se encuentra en \\\"b\\\"? \" + str(a is not b))\n",
    "print(\"¿La variable \\\"a\\\" no se encuentra en \\\"c\\\"? \" + str(a is not c))"
   ]
  },
  {
   "cell_type": "code",
   "execution_count": 32,
   "id": "f949eeaf",
   "metadata": {},
   "outputs": [
    {
     "name": "stdout",
     "output_type": "stream",
     "text": [
      "¿La variable \"z\" se encuentra en \"y\"? True\n",
      "¿La variable \"z\" se encuentra en \"x\"? True\n"
     ]
    }
   ],
   "source": [
    "x = \"Hola\"\n",
    "y = x\n",
    "z = y\n",
    "print(\"¿La variable \\\"z\\\" se encuentra en \\\"y\\\"? \" + str(z is y))\n",
    "print(\"¿La variable \\\"z\\\" se encuentra en \\\"x\\\"? \" + str(z is x))"
   ]
  },
  {
   "cell_type": "code",
   "execution_count": 33,
   "id": "27b6e99e",
   "metadata": {},
   "outputs": [
    {
     "name": "stdout",
     "output_type": "stream",
     "text": [
      "¿La lista \"a\" se encuentra en \"b\"? False\n"
     ]
    }
   ],
   "source": [
    "a = [10,20,30]\n",
    "b = [10,20,30]\n",
    "print(\"¿La lista \\\"a\\\" se encuentra en \\\"b\\\"? \" + str(a is b))"
   ]
  },
  {
   "cell_type": "markdown",
   "id": "b06e643e",
   "metadata": {},
   "source": [
    "Se muestra `False` ya que las listas son objetos mutables (que puede cambiar) en Python.  "
   ]
  },
  {
   "cell_type": "markdown",
   "id": "8c076382",
   "metadata": {},
   "source": [
    "# Palabras reservadas en Python\n",
    "<img src = 'https://us.123rf.com/450wm/aquir/aquir1907/aquir190700923/126046846-reserved-stamp-reserved-square-grunge-sign-reserved.jpg)'\n",
    "     width = '200'>"
   ]
  },
  {
   "cell_type": "code",
   "execution_count": 14,
   "id": "246fe1e8",
   "metadata": {},
   "outputs": [
    {
     "data": {
      "text/plain": [
       "['False',\n",
       " 'None',\n",
       " 'True',\n",
       " '__peg_parser__',\n",
       " 'and',\n",
       " 'as',\n",
       " 'assert',\n",
       " 'async',\n",
       " 'await',\n",
       " 'break',\n",
       " 'class',\n",
       " 'continue',\n",
       " 'def',\n",
       " 'del',\n",
       " 'elif',\n",
       " 'else',\n",
       " 'except',\n",
       " 'finally',\n",
       " 'for',\n",
       " 'from',\n",
       " 'global',\n",
       " 'if',\n",
       " 'import',\n",
       " 'in',\n",
       " 'is',\n",
       " 'lambda',\n",
       " 'nonlocal',\n",
       " 'not',\n",
       " 'or',\n",
       " 'pass',\n",
       " 'raise',\n",
       " 'return',\n",
       " 'try',\n",
       " 'while',\n",
       " 'with',\n",
       " 'yield']"
      ]
     },
     "execution_count": 14,
     "metadata": {},
     "output_type": "execute_result"
    }
   ],
   "source": [
    "import keyword\n",
    "keyword.kwlist"
   ]
  },
  {
   "cell_type": "markdown",
   "id": "d52783b5",
   "metadata": {},
   "source": [
    "# Comentarios en Python"
   ]
  },
  {
   "cell_type": "markdown",
   "id": "f6102374",
   "metadata": {},
   "source": [
    "Existen dos tipos de comentarios: los cortos y los largos. Los cortos solo funcionan con una línea de código y por lo general se ponen después de una instrucción mientras que los largos se utilizan para comentar secciones de varias líneas de código."
   ]
  },
  {
   "cell_type": "code",
   "execution_count": 16,
   "id": "15345f7e",
   "metadata": {},
   "outputs": [
    {
     "name": "stdout",
     "output_type": "stream",
     "text": [
      "Hola mundo\n",
      "Hola mundo\n"
     ]
    },
    {
     "data": {
      "text/plain": [
       "'y = \"Hola mundo\"   \\nprint(y)\\ny = \"Hola mundo\"\\nprint(y)\\ny = \"Hola mundo\"\\nprint(y)'"
      ]
     },
     "execution_count": 16,
     "metadata": {},
     "output_type": "execute_result"
    }
   ],
   "source": [
    "y = \"Hola mundo\"\n",
    "print(y)\n",
    "y = \"Hola mundo\"   # Esto es un comentario corto\n",
    "print(y)           # Estos comentarios sirven para explicar el código \n",
    "\"\"\"y = \"Hola mundo\"   \n",
    "print(y)\n",
    "y = \"Hola mundo\"\n",
    "print(y)\n",
    "y = \"Hola mundo\"\n",
    "print(y)\"\"\""
   ]
  },
  {
   "cell_type": "markdown",
   "id": "99530bd7",
   "metadata": {},
   "source": [
    "# La función `import` \n",
    "<img src = 'https://files.realpython.com/media/Python-Imports_Watermarked.ae72c8a00197.jpg'\n",
    "     width = '350'>"
   ]
  },
  {
   "cell_type": "markdown",
   "id": "f6b5761d",
   "metadata": {},
   "source": [
    "El lenguaje de programación Python es muy popular por su amplia gama de librerías, esto ayuda a que el programa no sea tan grande y que se pueda adaptar de acuerdo a nuestras necesidades.\n",
    "\n",
    "Python no puede utilizar libremente las funciones de todas las librerías existentes sin que antes se le haya dado acceso. Para esto es que se utiliza la función `import`.\n",
    "\n",
    "- **Importar** se refiere a permitir que un módulo o script de **Python** tenga acceso a un script de otro archivo o módulo de Python (librerías).\n",
    "\n",
    "Un módulo es un archivo que contiene funciones y valores que se pueden referenciar en otro programa y tiene la extensión `.py`.\n",
    "\n",
    "## `import` sintaxis\n",
    "La manera más sencilla de importar es mediante:\n",
    "```python\n",
    "import <nombre_modulo> \n",
    "```"
   ]
  },
  {
   "cell_type": "code",
   "execution_count": 5,
   "id": "c8ce2666",
   "metadata": {},
   "outputs": [],
   "source": [
    "import numpy\n",
    "import matplotlib\n",
    "import math"
   ]
  },
  {
   "cell_type": "markdown",
   "id": "da29bc7b",
   "metadata": {},
   "source": [
    "Esto no quiere decir que el contenido del modulo se vuelve accesible para quien lo importa. Cada modulo tiene sus propios simbolos privados, los cuales se acceden como sigue:\n",
    "```python\n",
    "NombreModulo.ObjetoModulo\n",
    "```"
   ]
  },
  {
   "cell_type": "code",
   "execution_count": 8,
   "id": "a116b3d9",
   "metadata": {},
   "outputs": [
    {
     "data": {
      "text/plain": [
       "3.141592653589793"
      ]
     },
     "execution_count": 8,
     "metadata": {},
     "output_type": "execute_result"
    }
   ],
   "source": [
    "math.pi"
   ]
  },
  {
   "cell_type": "markdown",
   "id": "77f747fa",
   "metadata": {},
   "source": [
    "También es posible renombrar el módulo  (este nuevo nombre se encuentra en la documentación de la librería, no es obligatorio llamarlo de la manera en que se indica allí pero forma parte de las buenas prácticas de programación).\n",
    "\n",
    "Algunos ejemplos son:"
   ]
  },
  {
   "cell_type": "code",
   "execution_count": 22,
   "id": "78197c64",
   "metadata": {},
   "outputs": [
    {
     "name": "stdout",
     "output_type": "stream",
     "text": [
      "3.141592653589793\n"
     ]
    }
   ],
   "source": [
    "import numpy as np \n",
    "import math as mt\n",
    "\n",
    "print (mt.pi)"
   ]
  },
  {
   "cell_type": "markdown",
   "id": "ffc0b587",
   "metadata": {},
   "source": [
    "**Otra** manera es importar funciones específicas del modulo directamente a la tabla de símbolos de la persona que realiza la acción. Su forma general es:\n",
    "````python\n",
    "from <nombre_modulo> import <nombre_funcion>\n",
    "````\n",
    "\n",
    "En este formato se especifica el módulo o código que se quiere así como en donde está."
   ]
  },
  {
   "cell_type": "code",
   "execution_count": 9,
   "id": "f3cd225a",
   "metadata": {},
   "outputs": [],
   "source": [
    "from matplotlib import pyplot "
   ]
  },
  {
   "cell_type": "markdown",
   "id": "966a7076",
   "metadata": {},
   "source": [
    "# Cadena de caracteres \n",
    "<img src = 'https://files.realpython.com/media/Basic-Input-Output-and-String-Formatting-in-Python_Watermarked.65ba5b535841.jpg'\n",
    "     width = '350'>"
   ]
  },
  {
   "cell_type": "markdown",
   "id": "bb81ba41",
   "metadata": {},
   "source": [
    "Una cadena de caracteres siempre será de tipo **string**. La cadena de caracteres siempre debe llevar comillas dobles `\" \"`, o bien entre comillas simples `' ' `"
   ]
  },
  {
   "cell_type": "code",
   "execution_count": 26,
   "id": "66c8afee",
   "metadata": {},
   "outputs": [
    {
     "name": "stdout",
     "output_type": "stream",
     "text": [
      "<class 'str'>\n",
      "<class 'str'>\n"
     ]
    }
   ],
   "source": [
    "s1 = \"Buenos días, feliz día de la amistad\"\n",
    "print(type(s1))\n",
    "s2 = 'Buenos días, feliz día de la amistad'\n",
    "print(type(s2))"
   ]
  },
  {
   "cell_type": "code",
   "execution_count": 27,
   "id": "8e3ee544",
   "metadata": {
    "scrolled": true
   },
   "outputs": [
    {
     "name": "stdout",
     "output_type": "stream",
     "text": [
      "Buenos días, feliz día de la amistad\n"
     ]
    }
   ],
   "source": [
    "print(s1)"
   ]
  },
  {
   "cell_type": "markdown",
   "id": "cbe8e48a",
   "metadata": {},
   "source": [
    "## Métodos de cadenas\n",
    "Los métodos son funciones específicas para cada tipo de objeto.  \n",
    "Para saber que métodos se pueden utilizar para cada tipo de dato, se utiliza la función `dir()`."
   ]
  },
  {
   "cell_type": "markdown",
   "id": "13c7d982",
   "metadata": {},
   "source": [
    "| **Método**              | **Descripción**                                                                                                           |\n",
    "|-------------------------|---------------------------------------------------------------------------------------------------------------------------|\n",
    "| `cadena.upper()`        | Convierte el texto a mayúsculas                                                                                           |\n",
    "| `cadena.lower()`        | Convierte el texto a minúsculas                                                                                           |\n",
    "| `cadena.capitalize()`   | Primero convierte todo a minúsc.  y después convierte  la primera letra a mayúsc.                                         |\n",
    "| `cadena.find(\"\")`       | Busca una cadena en otra cadena. Si no hay coincidencias devuelve -1                                                      |\n",
    "| `cadena.index(\"\")`      | Busca una cadena en otra cadena, si no hay coincidencias lanza una  excepción. Excepción -> se para el código             |\n",
    "| `cadena.isnumeric()`    | Analiza si lo que está dentro del  string son sólo números, si es así devuelve True, sino devuelve False                  |\n",
    "| `cadena.isalpha()`      | Analiza si el string es alfanumérico, (sólo letras sin ningún espacio). Si es así devuelve True, sino, devuelve  False    |\n",
    "| `cadena.count(\"\")`      | Cuenta la cantidad de veces que  aparece una cadena dentro de otra.  Devuelve el número de coincidencias.                 |\n",
    "| `len(cadena)`           | Cuenta cuantos caracteres tiene una  cadena. Se incluyen los espacios **(Es una función, no un método, pero se usa mucho) |\n",
    "| `cadena.startswith(\"\")` | Verifica si una cadena comienza con  la cadena que le pedimos, si es así devuelve True, sino, devuelve False              |\n",
    "| `cadena.endswith(\"\")`   | Verifica si una cadena termina con  la cadena que le pedimos, si es así devuelve True, sino, devuelve False               |\n",
    "| `cadena.replace(\"\",\"\")` | Si el valor 1 se encuentra en la  cadena original, reemplaza el valor 1 por el valor 2                                    |\n",
    "| `cadena.split(\" \")`     | Separa las cadenas tomando como punto  de separación lo que se ponga entre comillas y devuelve una lista [ ]              |"
   ]
  },
  {
   "cell_type": "markdown",
   "id": "84291ac2",
   "metadata": {},
   "source": [
    "## Concatenar\n",
    "Significa **juntar cadenas** de caracteres. A este proceso se le denomina **CONCATENAR** y se realiza mediante el operador de suma `+`.  \n",
    "Se debe tener en cuenta que se debe marcar explícitamente dónde se quieren los espacios en blanco. "
   ]
  },
  {
   "cell_type": "code",
   "execution_count": 11,
   "id": "ff92594c",
   "metadata": {},
   "outputs": [
    {
     "name": "stdout",
     "output_type": "stream",
     "text": [
      "¡Bienvenida a Colombia, Brenda!\n"
     ]
    }
   ],
   "source": [
    "nombre = \"Brenda\"\n",
    "pais = \"Colombia\"\n",
    "print(\"¡Bienvenida a \" + pais + \",\" + \" \"+ nombre + \"!\")"
   ]
  },
  {
   "cell_type": "markdown",
   "id": "8a4623aa",
   "metadata": {},
   "source": [
    "## Multiplicar\n",
    "Si se busca añadir varias copias de una cadena de caracteres, se utiliza el operador `*`. "
   ]
  },
  {
   "cell_type": "code",
   "execution_count": 12,
   "id": "d0e29c65",
   "metadata": {},
   "outputs": [
    {
     "name": "stdout",
     "output_type": "stream",
     "text": [
      "amarillo amarillo amarillo \n"
     ]
    }
   ],
   "source": [
    "color = \"amarillo \"\n",
    "print(color * 3)"
   ]
  },
  {
   "cell_type": "markdown",
   "id": "38394f77",
   "metadata": {},
   "source": [
    "## Añadir\n",
    "Si lo que se busca es añadir strings de manera sucesiva, se utiliza el operador `+=`"
   ]
  },
  {
   "cell_type": "code",
   "execution_count": 13,
   "id": "0c6b7dde",
   "metadata": {},
   "outputs": [
    {
     "name": "stdout",
     "output_type": "stream",
     "text": [
      "Platano Manzana Guayaba Durazno\n"
     ]
    }
   ],
   "source": [
    "frutas = \"Platano \"\n",
    "frutas += \"Manzana \"\n",
    "frutas += \"Guayaba \"\n",
    "frutas += \"Durazno\"\n",
    "print(frutas)"
   ]
  },
  {
   "cell_type": "markdown",
   "id": "fda5c3e2",
   "metadata": {},
   "source": [
    "## Extensión\n",
    "Se puede determinar el número de caracteres en una cadena utilizando el comando `len`. \n",
    "\n",
    "**Importante**: Los espacios en blanco también cuentan. "
   ]
  },
  {
   "cell_type": "code",
   "execution_count": 14,
   "id": "0008cf39",
   "metadata": {},
   "outputs": [
    {
     "name": "stdout",
     "output_type": "stream",
     "text": [
      "24\n"
     ]
    }
   ],
   "source": [
    "despedida = \"Adiós y   buena  suerte.\"\n",
    "print(len(despedida))"
   ]
  },
  {
   "cell_type": "markdown",
   "id": "3d239261",
   "metadata": {},
   "source": [
    "## Contar\n",
    "Permite contar cuantas veces aparece alguna cadena de caracteres en el texto u oración en el que se desea buscar"
   ]
  },
  {
   "cell_type": "code",
   "execution_count": 16,
   "id": "809e2453",
   "metadata": {},
   "outputs": [
    {
     "name": "stdout",
     "output_type": "stream",
     "text": [
      "21\n"
     ]
    }
   ],
   "source": [
    "s = '''Veracruz en el nombre tu llevas la verdad y razón de tu ser, \n",
    "es honor tan inmenso, que elevas a tu pueblo que ve amanecer. \n",
    "Tus culturas se abrazan fraternas, grandes pueblos con ojos al sol, \n",
    "forjan juntos simientes eternas, en tu suelo brillante crisol.'''\n",
    "\n",
    "print(s.count(\"a\"))"
   ]
  },
  {
   "cell_type": "markdown",
   "id": "5e5215bf",
   "metadata": {},
   "source": [
    "## Encontrar\n",
    "Se puede buscar una sub-cadena en una cadena de caracteres utilizando el comando `find`. Este comando proporciona el índice de inicio de la misma. Tomar en cuenta que los índices están numerados de izquierda a derecha y comienza a contar en 0, no en 1. "
   ]
  },
  {
   "cell_type": "code",
   "execution_count": 17,
   "id": "d85ff8a7",
   "metadata": {},
   "outputs": [
    {
     "name": "stdout",
     "output_type": "stream",
     "text": [
      "8\n"
     ]
    }
   ],
   "source": [
    "msj = \"Esto es muy útil para procesos que veremos más adelante.\"\n",
    "print(msj.find(\"muy\"))"
   ]
  },
  {
   "cell_type": "markdown",
   "id": "801e1666",
   "metadata": {},
   "source": [
    "Si la sub-cadena no está presente el programa imprimirá el valor -1."
   ]
  },
  {
   "cell_type": "code",
   "execution_count": 18,
   "id": "8db115d5",
   "metadata": {},
   "outputs": [
    {
     "name": "stdout",
     "output_type": "stream",
     "text": [
      "-1\n"
     ]
    }
   ],
   "source": [
    "msj = \"Esto es muy útil para procesos que veremos más adelante.\"\n",
    "print(msj.find(\"sombrilla\"))"
   ]
  },
  {
   "cell_type": "markdown",
   "id": "aeefceff",
   "metadata": {},
   "source": [
    "## Minúsculas\n",
    "A veces es útil convertir una cadena de caracteres a minúsculas. Para ello se utiliza el método `lower`. Por ejemplo, al uniformar los caracteres permitimos que la computadora reconozca fácilmente que “Algunas Veces” y “algunas veces” son la misma frase."
   ]
  },
  {
   "cell_type": "code",
   "execution_count": 19,
   "id": "07fa3721",
   "metadata": {},
   "outputs": [
    {
     "name": "stdout",
     "output_type": "stream",
     "text": [
      "hola mundo\n"
     ]
    }
   ],
   "source": [
    "mensaje7 = \"HOLA MUNDO\"\n",
    "mensaje7a = mensaje7.lower()\n",
    "print(mensaje7a)"
   ]
  },
  {
   "cell_type": "markdown",
   "id": "dde455de",
   "metadata": {},
   "source": [
    "## Mayúsculas\n",
    "Convertir las minúsculas en mayúsculas se logra cambiando `.lower()` por `upper()`"
   ]
  },
  {
   "cell_type": "code",
   "execution_count": 20,
   "id": "924a68b9",
   "metadata": {},
   "outputs": [
    {
     "name": "stdout",
     "output_type": "stream",
     "text": [
      "HOLA MUNDO\n"
     ]
    }
   ],
   "source": [
    "msj7 = \"HOLA MUNDO\"\n",
    "msj7a = msj7.upper()\n",
    "print(msj7a)"
   ]
  },
  {
   "cell_type": "markdown",
   "id": "c8a20c58",
   "metadata": {},
   "source": [
    "## Reemplazar\n",
    "Cuando se necesita cambiar una sub-cadena se puede utilizar el método `replace`"
   ]
  },
  {
   "cell_type": "code",
   "execution_count": 21,
   "id": "95e0b460",
   "metadata": {},
   "outputs": [
    {
     "name": "stdout",
     "output_type": "stream",
     "text": [
      "HOpizzaA MUNDO\n"
     ]
    }
   ],
   "source": [
    "mensaje8 = \"HOLA MUNDO\"\n",
    "mensaje8a = mensaje7.replace(\"L\", \"pizza\")\n",
    "print(mensaje8a)"
   ]
  },
  {
   "cell_type": "markdown",
   "id": "79e303d8",
   "metadata": {},
   "source": [
    "## Cortar\n",
    "Para cortar partes que no se quieran del principio o del final de la cadena de caracteres, se puede hacer creando una sub-cadena. El mismo tipo de técnica permite separar una cadena muy larga en componentes más manejables."
   ]
  },
  {
   "cell_type": "code",
   "execution_count": 22,
   "id": "8f2c4e01",
   "metadata": {},
   "outputs": [
    {
     "name": "stdout",
     "output_type": "stream",
     "text": [
      "ola Mun\n"
     ]
    }
   ],
   "source": [
    "mensaje9 = \"Hola Mundo\"\n",
    "mensaje9a = mensaje9[1:8]\n",
    "print(mensaje9a)"
   ]
  },
  {
   "cell_type": "markdown",
   "id": "71cda2d4",
   "metadata": {},
   "source": [
    "Esto hace mucho más simple usar este método en conjunción con el método find como en el próximo ejemplo, que busca la letra “d” en los seis primeros caracteres de “Hola Mundo” y correctamente nos dice que no se encuentra ahí (-1). Esta técnica es mucho más eficaz en cadenas largas -documentos enteros, por ejemplo. Observa que la ausencia de un número entero antes de los dos puntos significa que queremos empezar desde el principio de la cadena."
   ]
  },
  {
   "cell_type": "code",
   "execution_count": 23,
   "id": "5e9e5fcf",
   "metadata": {},
   "outputs": [
    {
     "name": "stdout",
     "output_type": "stream",
     "text": [
      "-1\n",
      "7\n",
      "3\n"
     ]
    }
   ],
   "source": [
    "mensaje9 = \"Hola Mundo\"\n",
    "print(mensaje9[:5].find(\"d\")) #Busca desde el caracter 0 al 5\n",
    "print(mensaje9.find(\"n\")) # Busca en toda la cadena\n",
    "\n",
    "mensaje10 = \"Hola Mundo\"\n",
    "print(mensaje9[:5].find(\"a\"))"
   ]
  },
  {
   "cell_type": "markdown",
   "id": "6de4ea5e",
   "metadata": {},
   "source": [
    "# Secuencias de escape\n",
    "¿Qué haces cuando necesitas incluir comillas en una cadena de caracteres? No quieres que el intérprete de Python se equivoque y piense que la cadena termina en donde se encuentre una comilla. En Python puedes poner una barra invertida `\\` enfrente de la comilla para que no acabe ahí la cadena. Esto es conocido como secuencia de escape."
   ]
  },
  {
   "cell_type": "code",
   "execution_count": 25,
   "id": "abdc83d7",
   "metadata": {
    "scrolled": true
   },
   "outputs": [
    {
     "name": "stdout",
     "output_type": "stream",
     "text": [
      "Buenos días, \"feliz día\" de la amistad\n",
      "Buenos días, \"feliz día\" de la amistad\n"
     ]
    }
   ],
   "source": [
    "s3 = 'Buenos días, \\\"feliz día\\\" de la amistad'\n",
    "print(s3)\n",
    "\n",
    "s4 = 'Buenos días, \"feliz día\" de la amistad'\n",
    "print(s4)"
   ]
  },
  {
   "cell_type": "markdown",
   "id": "fc4a0fde",
   "metadata": {},
   "source": [
    "Otras dos secuencias de escape te permiten incluir marcas de tabulación `\\t` y saltos de línea `\\n`:"
   ]
  },
  {
   "cell_type": "code",
   "execution_count": 29,
   "id": "3e6528a8",
   "metadata": {},
   "outputs": [
    {
     "name": "stdout",
     "output_type": "stream",
     "text": [
      "\t Buenos días,\n",
      " \"feliz día\" \n",
      " de la 'amistad'\n"
     ]
    }
   ],
   "source": [
    "s5 = \"\\t Buenos días,\\n \\\"feliz día\\\" \\n de la \\'amistad'\"\n",
    "print(s5)"
   ]
  },
  {
   "cell_type": "markdown",
   "id": "016dd033",
   "metadata": {},
   "source": [
    "# Formato de cadena\n",
    "<img src= 'https://files.realpython.com/media/UPDATE-Modulo-String-Formatting-in-Python_Watermarked.1238ac2df08b.jpg'\n",
    "     width = '350'>\n",
    "\n",
    "## “Old Style” String Formatting `%`\n",
    "Las cadenas en Python tienen una operación integrada única a la que se puede acceder con el operador %. Esto le permite hacer formato posicional simple muy fácilmente.\n",
    "```python\n",
    "%d ---- Integer\n",
    "%s ---- String\n",
    "%f - Floating point numbers\n",
    "%.<numero de digitos>f - Floating point numbers with a fixed amount of digits to the right of the dot.\n",
    "```"
   ]
  },
  {
   "cell_type": "code",
   "execution_count": 42,
   "id": "4ca565bf",
   "metadata": {},
   "outputs": [
    {
     "name": "stdout",
     "output_type": "stream",
     "text": [
      "5 manzanas tienen un costo de $80.550\n"
     ]
    }
   ],
   "source": [
    "print('%d %s tienen un costo de $%.3f' % (5,'manzanas',80.55))"
   ]
  },
  {
   "cell_type": "code",
   "execution_count": 43,
   "id": "7fc2f09d",
   "metadata": {},
   "outputs": [
    {
     "name": "stdout",
     "output_type": "stream",
     "text": [
      "Mi alumna Brenda tiene 25 años y vive en la ciudad de Huatusco\n"
     ]
    }
   ],
   "source": [
    "print('Mi alumna %s tiene %d años y vive en la ciudad de %s' % ('Brenda',25,'Huatusco'))"
   ]
  },
  {
   "cell_type": "markdown",
   "id": "d2b7e600",
   "metadata": {},
   "source": [
    "## “New Style” String Formatting `str.format`\n",
    "Puede usar `format()` para hacer un formato posicional simple, tal como lo haría con el formato anterior:"
   ]
  },
  {
   "cell_type": "code",
   "execution_count": 40,
   "id": "de8524fe",
   "metadata": {},
   "outputs": [
    {
     "name": "stdout",
     "output_type": "stream",
     "text": [
      "Mi alumna Brenda tiene 25 años y vive en la ciudad de Huatusco\n",
      "Mi alumna Brenda tiene 25 años y vive en la ciudad de Huatusco\n"
     ]
    }
   ],
   "source": [
    "nombre = \"Brenda\"\n",
    "edad = 25       #Se tiene que pasar a tipo str cuando se quiera imprimir\n",
    "ciudad = \"Huatusco\"\n",
    "print(\"Mi alumna \" +nombre + \" tiene \" +str(edad)+ \" años y vive en la ciudad de \" +ciudad)\n",
    "print('Mi alumna {0} tiene {1} años y vive en la ciudad de {2}'.format(nombre,edad,ciudad))\n",
    "       # El número de llaves tiene que corresponder al número de elementos dentro de .format"
   ]
  },
  {
   "cell_type": "code",
   "execution_count": 41,
   "id": "3b5c899e",
   "metadata": {
    "scrolled": true
   },
   "outputs": [
    {
     "name": "stdout",
     "output_type": "stream",
     "text": [
      "Mi alumna Brenda tiene 25.3 años y vive en la ciudad de Huatusco\n"
     ]
    }
   ],
   "source": [
    "print('Mi alumna {0} tiene {1} años y vive en la ciudad de {2}'.format('Brenda',25.3,'Huatusco'))"
   ]
  },
  {
   "cell_type": "markdown",
   "id": "e4e1895c",
   "metadata": {},
   "source": [
    "## String Interpolation `f-Strings`\n",
    "Python 3.6 agregó un nuevo enfoque de formato de cadena llamado literales de cadena formateados o `f-strings`. Esta nueva forma de dar formato a las cadenas le permite usar expresiones de Python incrustadas dentro de constantes de cadena."
   ]
  },
  {
   "cell_type": "code",
   "execution_count": 30,
   "id": "72014a11",
   "metadata": {},
   "outputs": [
    {
     "name": "stdout",
     "output_type": "stream",
     "text": [
      "Cinco mas diez es  15 y no 30.\n",
      "Ya casi son las 5 de la tarde\n"
     ]
    }
   ],
   "source": [
    "a = 5\n",
    "b = 10\n",
    "print(f'Cinco mas diez es  {a + b} y no {2 * (a + b)}.')\n",
    "print(f\"Ya casi son las {a} de la tarde\")"
   ]
  },
  {
   "cell_type": "markdown",
   "id": "237d37b4",
   "metadata": {},
   "source": [
    "# Funciones para trabajar con cadenas de caracteres"
   ]
  },
  {
   "cell_type": "code",
   "execution_count": 44,
   "id": "75c007f4",
   "metadata": {},
   "outputs": [
    {
     "name": "stdout",
     "output_type": "stream",
     "text": [
      "¿Cuál es tu nombre?Brenda\n",
      "<class 'str'>\n",
      "¿Cuál es tu edad?24\n",
      "<class 'str'>\n"
     ]
    }
   ],
   "source": [
    "dato1 = input('¿Cuál es tu nombre?') #todo lo que ingresa con input es string\n",
    "print(type(dato1))\n",
    "dato2 = input('¿Cuál es tu edad?')\n",
    "print(type(dato2))"
   ]
  },
  {
   "cell_type": "markdown",
   "id": "736bb0f7",
   "metadata": {},
   "source": [
    "La conversión de datos en Python se hace de la siguiente manera: \n",
    "\n",
    "- Para convertir a cadena de caracteres\n",
    "```python\n",
    "str(numero)\n",
    "```\n",
    "\n",
    "- Para convertir a entero \n",
    "```python\n",
    "int(numero o string)\n",
    "\n",
    "```\n",
    "\n",
    "- Para convertir a flotante \n",
    "```python\n",
    "float(valor entero o cadena de caracteres)\n",
    "```"
   ]
  },
  {
   "cell_type": "code",
   "execution_count": 45,
   "id": "3f36d3bd",
   "metadata": {},
   "outputs": [
    {
     "name": "stdout",
     "output_type": "stream",
     "text": [
      "¿Cuál es tu edad?25\n",
      "<class 'int'>\n"
     ]
    }
   ],
   "source": [
    "dato2 = input('¿Cuál es tu edad?')\n",
    "valor = int(dato2)\n",
    "print(type(valor))"
   ]
  },
  {
   "cell_type": "code",
   "execution_count": 46,
   "id": "2f2e32eb",
   "metadata": {},
   "outputs": [
    {
     "name": "stdout",
     "output_type": "stream",
     "text": [
      "¿Cuál es tu edad?21\n",
      "<class 'int'>\n"
     ]
    }
   ],
   "source": [
    "dato2 = int(input('¿Cuál es tu edad?')) # Para pasar de texto a otro formato: int(input(\"\"))\n",
    "print(type(dato2))"
   ]
  },
  {
   "cell_type": "markdown",
   "id": "4eeeaa82",
   "metadata": {},
   "source": [
    "# Sentencias `if`, `elif` y `else`\n",
    "<img src = 'https://files.realpython.com/media/Conditional-Statements-in-Python_Watermarked.b6b7d30ff62b.jpg'\n",
    "     width = '350'>\n",
    "     \n",
    "La estructura  `if`/`elif`/`else` es una forma común de controlar el flujo de un programa, lo que te permite ejecutar bloques de código específicos según el valor de algunos datos."
   ]
  },
  {
   "cell_type": "markdown",
   "id": "6236fde2",
   "metadata": {},
   "source": [
    "## `if` simple\n",
    "Si la condición que sigue a la palabra clave `if` se evalúa como verdadera, el bloque de código se ejecutará."
   ]
  },
  {
   "cell_type": "markdown",
   "id": "28d65e5b",
   "metadata": {},
   "source": [
    "```python\n",
    "if (condición):  \n",
    "    instrucciones  \n",
    "    instrucciones  \n",
    "    .  \n",
    "    .  \n",
    "    .(fin del if)  \n",
    "resto de instrucciones\n",
    "```"
   ]
  },
  {
   "cell_type": "code",
   "execution_count": 31,
   "id": "2b58a6a0",
   "metadata": {},
   "outputs": [
    {
     "name": "stdout",
     "output_type": "stream",
     "text": [
      "¡La condición era verdadera!\n"
     ]
    }
   ],
   "source": [
    "x = 5\n",
    "\n",
    "if x > 4:\n",
    "  print(\"¡La condición era verdadera!\")"
   ]
  },
  {
   "cell_type": "markdown",
   "id": "b573e273",
   "metadata": {},
   "source": [
    "## Ejercicio clase ✍️\n",
    "\n",
    "\n",
    "|Rango |     Eres              |\n",
    "|------|-----------------------|\n",
    "|0-5   |bebé                   |\n",
    "|5-15  |niño                   |\n",
    "|15-25 |joven                  |\n",
    "|22-40 |joven maduro           |\n",
    "|40-60 |adulto                 |\n",
    "|60-100|adulto mayor           |"
   ]
  },
  {
   "cell_type": "code",
   "execution_count": 9,
   "id": "005b29d0",
   "metadata": {},
   "outputs": [
    {
     "name": "stdout",
     "output_type": "stream",
     "text": [
      "¿Cuál es tu edad?25\n",
      "Tú eres un joven\n",
      "Esto ya no corresponde al if\n"
     ]
    }
   ],
   "source": [
    "edad = int(input(\"¿Cuál es tu edad?\"))\n",
    "if edad>0 and edad <=5:\n",
    "    print(\"Tú eres un bebé\")\n",
    "if edad>5 and edad<=15:\n",
    "    print(\"Tú eres un niño\")\n",
    "if edad>15 and edad<=25:\n",
    "    print(\"Tú eres un joven\")\n",
    "if edad>25 and edad<=40:\n",
    "    print(\"Tú eres un joven maduro\")\n",
    "if edad>40 and edad<=60:\n",
    "    print(\"Tú eres un adulto\")\n",
    "if edad>60 and edad<=100:\n",
    "    print(\"Tú eres un adulto mayor\")\n",
    "print(\"Esto ya no corresponde al if\")"
   ]
  },
  {
   "cell_type": "code",
   "execution_count": 11,
   "id": "cc492a79",
   "metadata": {},
   "outputs": [
    {
     "name": "stdout",
     "output_type": "stream",
     "text": [
      "Bienvenido al programa para calcular el área de figuras geométricas.\n",
      "\n",
      "\t1.- Calcular el área del círculo.\n",
      "\n",
      "\t2.- Calcular el área del rectágunlo.\n",
      "\n",
      "\t3.- Calcular el área del triángulo.\n",
      "\n",
      "Selecciona el número de la operación a realizar: 2\n",
      "Rectángulo.\n"
     ]
    }
   ],
   "source": [
    "print(\"Bienvenido al programa para calcular el área de figuras geométricas.\\n\")\n",
    "print(\"\\t1.- Calcular el área del círculo.\\n\")\n",
    "print(\"\\t2.- Calcular el área del rectágunlo.\\n\")\n",
    "print(\"\\t3.- Calcular el área del triángulo.\\n\")\n",
    "opcion = int(input(\"Selecciona el número de la operación a realizar: \"))\n",
    "if opcion ==1:\n",
    "    print(\"Círculo.\")\n",
    "if opcion ==2:\n",
    "    print(\"Rectángulo.\")\n",
    "if opcion ==3:\n",
    "    print(\"Triángulo.\")"
   ]
  },
  {
   "cell_type": "markdown",
   "id": "c64a7073",
   "metadata": {},
   "source": [
    "## `if-else`"
   ]
  },
  {
   "cell_type": "markdown",
   "id": "af515c50",
   "metadata": {},
   "source": [
    "```python\n",
    "if (condición):  \n",
    "    instrucciones  \n",
    "    instrucciones  \n",
    "    .  \n",
    "    .  \n",
    "    . continua con el if  \n",
    "else:  \n",
    "    instrucciones  \n",
    "    .  \n",
    "    .  \n",
    "resto de instrucciones\n",
    "```"
   ]
  },
  {
   "cell_type": "code",
   "execution_count": 10,
   "id": "644785b7",
   "metadata": {},
   "outputs": [
    {
     "name": "stdout",
     "output_type": "stream",
     "text": [
      "¿Cuál es tu edad?35\n",
      "Tú eres un joven maduro\n"
     ]
    }
   ],
   "source": [
    "edad = int(input(\"¿Cuál es tu edad?\"))\n",
    "if edad>0 and edad <=5:\n",
    "    print(\"Tú eres un bebé\")\n",
    "else:\n",
    "    if edad>5 and edad<=15:\n",
    "        print(\"Tú eres un niño\")\n",
    "    else:\n",
    "        if edad>15 and edad<=25:\n",
    "            print(\"Tú eres un joven\")\n",
    "        else:\n",
    "            if edad>25 and edad<=40:\n",
    "                print(\"Tú eres un joven maduro\")\n",
    "            else:\n",
    "                if edad>40 and edad<=60:\n",
    "                    print(\"Tú eres un adulto\")\n",
    "                else:\n",
    "                    if edad>60 and edad<=100:\n",
    "                        print(\"Tú eres un adulto mayor\")\n",
    "                    else:\n",
    "                        print(\"Tú eres inmortal.\")"
   ]
  },
  {
   "cell_type": "markdown",
   "id": "484ab575",
   "metadata": {},
   "source": [
    "## `if-elif-else`\n",
    "Se pueden verificar varias condiciones al incluir una o más verificaciones elif después de su declaración if inicial. Sólo se ejecutará una condición:"
   ]
  },
  {
   "cell_type": "markdown",
   "id": "07f9336a",
   "metadata": {},
   "source": [
    "````python\n",
    "if (condición):\n",
    "    instrucciones\n",
    "    instrucciones\n",
    "    .\n",
    "    .\n",
    "    .\n",
    "elif (condición):\n",
    "    instrucciones\n",
    "    instrucciones\n",
    "    .\n",
    "    .\n",
    "    .\n",
    "elif (condición):\n",
    "    instrucciones\n",
    "    instrucciones\n",
    "    .\n",
    "    .\n",
    "    .\n",
    "# Se pueden poner cuantos elif sean necesarios pero siempre deberá terminar con un else \n",
    "else:\n",
    "    instrucciones\n",
    "    .\n",
    "    .\n",
    "    .\n",
    "resto de instrucciones\n",
    "````"
   ]
  },
  {
   "cell_type": "markdown",
   "id": "95794129",
   "metadata": {},
   "source": [
    "# Bucles `for`\n",
    "<img src = 'https://files.realpython.com/media/Python-for-Loops-Definite-Iteration_Watermarked.9c0d36b6de30.jpg'\n",
    "     width = '350'>\n",
    "Sirven para repetir de manera controlada la ejecución de un código"
   ]
  },
  {
   "cell_type": "markdown",
   "id": "9158d6d5",
   "metadata": {},
   "source": [
    "## Código en C"
   ]
  },
  {
   "cell_type": "markdown",
   "id": "2e22c7de",
   "metadata": {},
   "source": [
    "```C\n",
    "for(int i=1, i<=5, i++){}\n",
    "```  "
   ]
  },
  {
   "cell_type": "markdown",
   "id": "cf93304f",
   "metadata": {},
   "source": [
    "Tipo de dato, una variable inicializada (generalmente en cero pero puede iniciar en cualquier valor); lo más importante para el `for` es una condición o bucle y un incremento en la variable previamente inicializada.\n",
    "\n",
    "La condición tiene que ser verdadera.  "
   ]
  },
  {
   "cell_type": "markdown",
   "id": "1a984f6f",
   "metadata": {},
   "source": [
    "```C\n",
    "i++-->i=i+1\n",
    "```"
   ]
  },
  {
   "cell_type": "markdown",
   "id": "7f7bdb24",
   "metadata": {},
   "source": [
    "## Código en Python"
   ]
  },
  {
   "cell_type": "code",
   "execution_count": 2,
   "id": "904d1a20",
   "metadata": {
    "scrolled": true
   },
   "outputs": [
    {
     "name": "stdout",
     "output_type": "stream",
     "text": [
      "Manzana\n",
      "Naranja\n",
      "Uva\n",
      "Pera\n",
      "Mandarina\n"
     ]
    }
   ],
   "source": [
    "frutas = [\"Manzana\",\"Naranja\",\"Uva\",\"Pera\",\"Mandarina\"]\n",
    "for Variable_Interna in frutas:\n",
    "    print(Variable_Interna)"
   ]
  },
  {
   "cell_type": "code",
   "execution_count": 33,
   "id": "3d203782",
   "metadata": {},
   "outputs": [
    {
     "name": "stdout",
     "output_type": "stream",
     "text": [
      "M\n",
      "a\n",
      "n\n",
      "g\n",
      "o\n"
     ]
    }
   ],
   "source": [
    "for i in \"Mango\":\n",
    "    print(i)"
   ]
  },
  {
   "cell_type": "markdown",
   "id": "a8154258",
   "metadata": {},
   "source": [
    "### `break`\n",
    "\n",
    "Con `break` se puede parar la iteración antes de que haya iterado todos los elementos.\n",
    "\n",
    "- Salir del bucle cuando 'y' sea 'pera'"
   ]
  },
  {
   "cell_type": "code",
   "execution_count": 1,
   "id": "59a97972",
   "metadata": {},
   "outputs": [
    {
     "name": "stdout",
     "output_type": "stream",
     "text": [
      "manzana\n",
      "mango\n",
      "pera\n"
     ]
    }
   ],
   "source": [
    "frutas = ['manzana', 'mango', 'pera', 'durazno']\n",
    "\n",
    "for y in frutas:\n",
    "    print(y)\n",
    "    \n",
    "    if y == 'pera':\n",
    "        break"
   ]
  },
  {
   "cell_type": "markdown",
   "id": "9dbd3e7b",
   "metadata": {},
   "source": [
    "- Salir del bucle cuando 'y' sea pera, pero esta vez `break` viene antes del `print`"
   ]
  },
  {
   "cell_type": "code",
   "execution_count": 2,
   "id": "b29e4f2c",
   "metadata": {},
   "outputs": [
    {
     "name": "stdout",
     "output_type": "stream",
     "text": [
      "manzana\n",
      "mango\n"
     ]
    }
   ],
   "source": [
    "frutas = ['manzana', 'mango', 'pera', 'durazno']\n",
    "\n",
    "for y in frutas:\n",
    "    if y == 'pera':\n",
    "        break\n",
    "    print(y)"
   ]
  },
  {
   "cell_type": "markdown",
   "id": "84fe8d23",
   "metadata": {},
   "source": [
    "### `continue`\n",
    "\n",
    "Con `continue` se puede parar la iteración que se especifica y continuar con la siguiente.\n",
    "\n",
    "- No imprima 'mango'"
   ]
  },
  {
   "cell_type": "code",
   "execution_count": 3,
   "id": "c54d757a",
   "metadata": {},
   "outputs": [
    {
     "name": "stdout",
     "output_type": "stream",
     "text": [
      "manzana\n",
      "pera\n",
      "durazno\n"
     ]
    }
   ],
   "source": [
    "frutas = ['manzana', 'mango', 'pera', 'durazno']\n",
    "\n",
    "for y in frutas:\n",
    "    if y == 'mango':\n",
    "        continue\n",
    "    print(y)"
   ]
  },
  {
   "cell_type": "markdown",
   "id": "379cf752",
   "metadata": {},
   "source": [
    "### `range()`\n",
    "\n",
    "Para iterar una parte del código un número específico de veces se utiliza la función `range()`\n",
    "\n",
    "La función regresa una serie de números, empezando por el 0 y con incrementos de 1,y termina en el número especificado menos 1.\n",
    "\n",
    "- Utilizando la función `range()`"
   ]
  },
  {
   "cell_type": "code",
   "execution_count": 35,
   "id": "b3dad46f",
   "metadata": {
    "scrolled": true
   },
   "outputs": [
    {
     "name": "stdout",
     "output_type": "stream",
     "text": [
      "0\n",
      "1\n",
      "2\n"
     ]
    }
   ],
   "source": [
    "for i in range(3): # Total de elementos que existen\n",
    "    print(i)"
   ]
  },
  {
   "cell_type": "markdown",
   "id": "dca3040e",
   "metadata": {},
   "source": [
    "La función `range()` por default comienza desde 0, sin embargo, es posible especificar desde donde comienza hasta donde termina al agregar un parámetro a la función: `range(2,6)`, lo que significa los valores del 2 al 6, sin incluir al 6."
   ]
  },
  {
   "cell_type": "code",
   "execution_count": 34,
   "id": "97592b77",
   "metadata": {
    "scrolled": true
   },
   "outputs": [
    {
     "name": "stdout",
     "output_type": "stream",
     "text": [
      "2\n",
      "3\n",
      "4\n",
      "5\n"
     ]
    }
   ],
   "source": [
    "for i in range(2,6):  # range(comienza en 1, avanza hasta el elemento 11)\n",
    "    print(i)"
   ]
  },
  {
   "cell_type": "markdown",
   "id": "cec7cc2c",
   "metadata": {},
   "source": [
    "La función por default realiza incrementos de 1, pero se puede cambiar el incremento agregando un tercer parámetro: `range(2,15,2)`"
   ]
  },
  {
   "cell_type": "code",
   "execution_count": 36,
   "id": "f83f3286",
   "metadata": {},
   "outputs": [
    {
     "name": "stdout",
     "output_type": "stream",
     "text": [
      "0\n",
      "10\n",
      "20\n",
      "30\n",
      "40\n"
     ]
    }
   ],
   "source": [
    "for i in range(0,50,10): # range(Comienza en 0, termina en 100, intervalos de 10)\n",
    "    print(i)"
   ]
  },
  {
   "cell_type": "markdown",
   "id": "746d8812",
   "metadata": {},
   "source": [
    "### `else` en un bucle `for`\n",
    "\n",
    "La palabra `else` en un ciclo `for` especifica que se ejecute un bloque de código cuando el ciclo termine.\n",
    "\n",
    "*Nota: el bloque `else` no se ejecutará si el ciclo se detiene por un `break`*\n",
    "\n",
    "- Imprimir todos los números del 0 al 5, e imprimir un mensaje cuando el ciclo haya terminado"
   ]
  },
  {
   "cell_type": "code",
   "execution_count": 40,
   "id": "8575a6a5",
   "metadata": {
    "scrolled": true
   },
   "outputs": [
    {
     "name": "stdout",
     "output_type": "stream",
     "text": [
      "0\n",
      "1\n",
      "2\n",
      "Hola\n"
     ]
    }
   ],
   "source": [
    "for i in range(3):\n",
    "    print(i)\n",
    "else:\n",
    "    print(\"Hola\")"
   ]
  },
  {
   "cell_type": "code",
   "execution_count": 41,
   "id": "c573496c",
   "metadata": {},
   "outputs": [
    {
     "name": "stdout",
     "output_type": "stream",
     "text": [
      "0\n",
      "1\n",
      "2\n",
      "3\n"
     ]
    }
   ],
   "source": [
    "for q in range(6):\n",
    "    print(q)\n",
    "    if q == 3:\n",
    "        break\n",
    "    \n",
    "else:\n",
    "    print('Esto ya no se imprimió por el break')"
   ]
  },
  {
   "cell_type": "markdown",
   "id": "3af62848",
   "metadata": {},
   "source": [
    "### `for` anidados\n",
    "\n",
    "Los bucles anidados es un bucle dentro de otro bucle. El bucle interior será ejecutado una vez por cada iteración del bucle exterior.\n",
    "\n",
    "- Imprimir cada adjetivo para cada fruta"
   ]
  },
  {
   "cell_type": "code",
   "execution_count": 4,
   "id": "48b93cae",
   "metadata": {},
   "outputs": [
    {
     "name": "stdout",
     "output_type": "stream",
     "text": [
      "roja manzana\n",
      "roja mango\n",
      "roja pera\n",
      "roja durazno\n",
      "sabroso manzana\n",
      "sabroso mango\n",
      "sabroso pera\n",
      "sabroso durazno\n",
      "bonita manzana\n",
      "bonita mango\n",
      "bonita pera\n",
      "bonita durazno\n",
      "dulce manzana\n",
      "dulce mango\n",
      "dulce pera\n",
      "dulce durazno\n"
     ]
    }
   ],
   "source": [
    "adjetivos = ['roja', 'sabroso','bonita','dulce' ]\n",
    "frutas = ['manzana', 'mango', 'pera', 'durazno']\n",
    "\n",
    "for a in adjetivos:\n",
    "    for f in frutas:\n",
    "        print(a,f)"
   ]
  },
  {
   "cell_type": "markdown",
   "id": "96082752",
   "metadata": {},
   "source": [
    "### `pass`\n",
    "\n",
    "Los bucles `for` no pueden estar vacíos, pero si por alguna razón se tiene un bucle vacío se puede poner `pass` para no generar un error."
   ]
  },
  {
   "cell_type": "code",
   "execution_count": 5,
   "id": "4b83bc1b",
   "metadata": {},
   "outputs": [],
   "source": [
    "for l in [0,5,464]:\n",
    "    pass\n",
    "#No marca error en la salida"
   ]
  },
  {
   "cell_type": "markdown",
   "id": "a2e4980c",
   "metadata": {},
   "source": [
    "# Bucles `while`\n",
    "<img src = 'https://files.realpython.com/media/Python-while-Loops-Indefinite-Iteration_Watermarked.2dfa40d8e92c.jpg'\n",
    "     width = '350'>\n",
    "\n",
    "\n",
    "Con el bucle `while` se puede ejecutar un bucle mientras que una condición sea verdadera.\n",
    "\n",
    "En un bucle `while` es necesario declarar las variables relevantes.\n",
    "\n",
    "- Ejemplo: Imprimir 'i' mientras que 'i' sea menor que 6"
   ]
  },
  {
   "cell_type": "code",
   "execution_count": 6,
   "id": "467b3cfc",
   "metadata": {},
   "outputs": [
    {
     "name": "stdout",
     "output_type": "stream",
     "text": [
      "1\n",
      "2\n",
      "3\n",
      "4\n",
      "5\n"
     ]
    }
   ],
   "source": [
    "i = 1\n",
    "while i <6:\n",
    "    print(i)\n",
    "    i += 1 # se tiene que ir incrementado i porque si no se vuelve un bucle infinito"
   ]
  },
  {
   "cell_type": "markdown",
   "id": "8fca9721",
   "metadata": {},
   "source": [
    "Hacer un programa donde se introduzcan cinco valores numéricos y que se sumen con el siguiente valor proporcionado:"
   ]
  },
  {
   "cell_type": "code",
   "execution_count": 1,
   "id": "826f9f18",
   "metadata": {},
   "outputs": [
    {
     "name": "stdout",
     "output_type": "stream",
     "text": [
      "Dame un número: 4\n",
      "4\n",
      "Dame un número: 4\n",
      "8\n",
      "Dame un número: 4\n",
      "12\n",
      "Dame un número: 8\n",
      "20\n",
      "Dame un número: 7\n",
      "27\n"
     ]
    }
   ],
   "source": [
    "datos = 0\n",
    "memoria = 0\n",
    "while datos<5:\n",
    "    valor=int(input(\"Dame un número: \"))\n",
    "    memoria= memoria + valor\n",
    "    print(memoria)\n",
    "    datos+=1"
   ]
  },
  {
   "cell_type": "markdown",
   "id": "398e9f40",
   "metadata": {},
   "source": [
    "## Ejercicio clase\n",
    "Hacer un programa que solicite al usuario un número entero (1-9) donde muestre la tabla de multiplicar de dicho número."
   ]
  },
  {
   "cell_type": "code",
   "execution_count": 1,
   "id": "839e9898",
   "metadata": {},
   "outputs": [
    {
     "name": "stdout",
     "output_type": "stream",
     "text": [
      "Este programa muestra la tabla de multiplicar de un número elegido entre 1 y 9\n",
      "\n",
      "Ingrese un número entre el 1 y 9: 65\n",
      "\n",
      " NUMERO NO PERMITIDO. \n",
      " INTENTE DE NUEVO\n",
      "\n",
      "Este programa muestra la tabla de multiplicar de un número elegido entre 1 y 9\n",
      "\n",
      "Ingrese un número entre el 1 y 9: 1\n",
      "1 * 1 = 1\n",
      "1 * 2 = 2\n",
      "1 * 3 = 3\n",
      "1 * 4 = 4\n",
      "1 * 5 = 5\n",
      "1 * 6 = 6\n",
      "1 * 7 = 7\n",
      "1 * 8 = 8\n",
      "1 * 9 = 9\n",
      "1 * 10 = 10\n",
      "¿Desea reiniciar el programa? (Si/No)si\n",
      "Este programa muestra la tabla de multiplicar de un número elegido entre 1 y 9\n",
      "\n",
      "Ingrese un número entre el 1 y 9: 9\n",
      "9 * 1 = 9\n",
      "9 * 2 = 18\n",
      "9 * 3 = 27\n",
      "9 * 4 = 36\n",
      "9 * 5 = 45\n",
      "9 * 6 = 54\n",
      "9 * 7 = 63\n",
      "9 * 8 = 72\n",
      "9 * 9 = 81\n",
      "9 * 10 = 90\n",
      "¿Desea reiniciar el programa? (Si/No)no\n",
      "Gracias por utilizar el programa\n"
     ]
    }
   ],
   "source": [
    "retorno='si'\n",
    "while retorno.lower()=='si':\n",
    "    \n",
    "###########################################################    \n",
    "#########                MENU                     #########  \n",
    "###########################################################\n",
    "    \n",
    "    while True:\n",
    "        print('Este programa muestra la tabla de multiplicar de un número elegido entre 1 y 9\\n')\n",
    "        numero=int(input('Ingrese un número entre el 1 y 9: '))\n",
    "\n",
    "###########################################################\n",
    "########            FUERA DE RANGO               ##########\n",
    "###########################################################\n",
    "\n",
    "        if numero<1 or numero>9:\n",
    "            print('\\n NUMERO NO PERMITIDO. \\n INTENTE DE NUEVO\\n')\n",
    "        else: \n",
    "            break\n",
    "            \n",
    "###########################################################           \n",
    "#######           TABLA DE MULTIPLICAR           ##########\n",
    "########################################################### \n",
    "\n",
    "    for i in range(1,11):\n",
    "        print(f'{numero} * {i} = {i*numero}')\n",
    "    \n",
    "###########################################################     \n",
    "#######             ¿REINICIAR???                 #########\n",
    "###########################################################\n",
    "    \n",
    "    volver = input('¿Desea reiniciar el programa? (Si/No)')\n",
    "    \n",
    "    if volver.lower()=='si':\n",
    "        retorno='si'\n",
    "    else:\n",
    "        print('Gracias por utilizar el programa')\n",
    "        break"
   ]
  },
  {
   "cell_type": "markdown",
   "id": "779e35a8",
   "metadata": {},
   "source": [
    "## Ejercicio clase\n",
    "Realizar un programa que muestre un menú para el cálculo de tres áreas donde el usuario pueda elegir alguna de las tres, introduzca datos, y se muestran los resultados."
   ]
  },
  {
   "cell_type": "code",
   "execution_count": 26,
   "id": "df7ce7e7",
   "metadata": {},
   "outputs": [
    {
     "name": "stdout",
     "output_type": "stream",
     "text": [
      "Bienvenido al programa para calcular el área de figuras geométricas.\n",
      "\n",
      "\t1.- Calcular el área del círculo.\n",
      "\n",
      "\t2.- Calcular el área del rectágunlo.\n",
      "\n",
      "\t3.- Calcular el área del triángulo.\n",
      "\n",
      "Selecciona el número de la operación a realizar: 1\n",
      "Cículo. \n",
      "Ingresa el valor del radio3\n",
      "El área del circulo es: 28.274333882308138\n"
     ]
    }
   ],
   "source": [
    "import math\n",
    "print(\"Bienvenido al programa para calcular el área de figuras geométricas.\\n\")\n",
    "print(\"\\t1.- Calcular el área del círculo.\\n\")\n",
    "print(\"\\t2.- Calcular el área del rectágunlo.\\n\")\n",
    "print(\"\\t3.- Calcular el área del triángulo.\\n\")\n",
    "opcion = int(input(\"Selecciona el número de la operación a realizar: \"))\n",
    "if opcion ==1:\n",
    "    print(\"Cículo. \")\n",
    "    radio=float(input(\"Ingresa el valor del radio\"))\n",
    "    print(f\"El área del circulo es: {math.pi*math.pow(radio,2)}\")\n",
    "elif opcion ==2:\n",
    "    print(\"Rectángulo.\")\n",
    "    long1=float(input(\"Ingresa la longitud más larga: \"))\n",
    "    long2=float(input(\"Ingresa la longiud más corta: \"))\n",
    "    print(f\"El área del rectángulo es: {long1*long2}\")\n",
    "else:\n",
    "        print(\"Triángulo.\\n\")\n",
    "        base=float(input(\"Ingresa el valor de la base: \"))\n",
    "        altura=float(input(\"Ingresa el valor de la altura: \"))\n",
    "        print(f\"El área del triángulo es: {base*altura/2}\")"
   ]
  },
  {
   "cell_type": "markdown",
   "id": "c008e523",
   "metadata": {},
   "source": [
    "## Ejercicio\n",
    "Continuando con el ejercicio anterior, agregar la pregunta al final del código si se desea ralizar otro cálculo del área. De ser afirmativa la respuesta el código previo debería nuevamente ejecutarse, caso contrario, dar las gracias al usuario. "
   ]
  },
  {
   "cell_type": "code",
   "execution_count": 1,
   "id": "006163ae",
   "metadata": {
    "scrolled": true
   },
   "outputs": [
    {
     "name": "stdout",
     "output_type": "stream",
     "text": [
      "Bienvenido al programa para calcular el área de figuras geométricas.\n",
      "\n",
      "\t1.- Calcular el área del círculo.\n",
      "\n",
      "\t2.- Calcular el área del rectágunlo.\n",
      "\n",
      "\t3.- Calcular el área del triángulo.\n",
      "\n",
      "Selecciona el número de la operación a realizar: 1\n",
      "Cículo. \n",
      "Ingresa el valor del radio: 4\n",
      "El área del circulo es: 50.26548245743669\n",
      "Desea calcular otra área? Escriba '1', si no escribir cualquier otro número: 1\n",
      "Bienvenido al programa para calcular el área de figuras geométricas.\n",
      "\n",
      "\t1.- Calcular el área del círculo.\n",
      "\n",
      "\t2.- Calcular el área del rectágunlo.\n",
      "\n",
      "\t3.- Calcular el área del triángulo.\n",
      "\n",
      "Selecciona el número de la operación a realizar: 1\n",
      "Cículo. \n",
      "Ingresa el valor del radio: 45\n",
      "El área del circulo es: 6361.725123519331\n",
      "Desea calcular otra área? Escriba '1', si no escribir cualquier otro número: 2\n",
      "Gracias por utilizar el programa\n"
     ]
    }
   ],
   "source": [
    "import math\n",
    "\n",
    "\n",
    "reset=0\n",
    "\n",
    "while reset==0:\n",
    "    print(\"Bienvenido al programa para calcular el área de figuras geométricas.\\n\")\n",
    "    print(\"\\t1.- Calcular el área del círculo.\\n\")\n",
    "    print(\"\\t2.- Calcular el área del rectágunlo.\\n\")\n",
    "    print(\"\\t3.- Calcular el área del triángulo.\\n\")\n",
    "    \n",
    "    opcion = int(input(\"Selecciona el número de la operación a realizar: \"))\n",
    "    \n",
    "    if opcion ==1:\n",
    "        print(\"Cículo. \")\n",
    "        radio=float(input(\"Ingresa el valor del radio: \"))\n",
    "        print(f\"El área del circulo es: {math.pi*math.pow(radio,2)}\")\n",
    "    elif opcion ==2:\n",
    "            print(\"Rectángulo.\")\n",
    "            long1=float(input(\"Ingresa la longitud más larga: \"))\n",
    "            long2=float(input(\"Ingresa la longiud más corta: \"))\n",
    "            print(f\"El área del rectángulo es: {long1*long2}\")\n",
    "    else:\n",
    "        opcion==3\n",
    "        print(\"Triángulo.\\n\")\n",
    "        base=float(input(\"Ingresa el valor de la base: \"))\n",
    "        altura=float(input(\"Ingresa el valor de la altura: \"))\n",
    "        print(f\"El área del triángulo es: {base*altura/2}\")\n",
    "        \n",
    "            \n",
    "    usuario = int(input(\"Desea calcular otra área? Escriba '1', si no escribir cualquier otro número: \"))\n",
    "    if usuario == 1:\n",
    "        reset = 0\n",
    "    else:\n",
    "        print(\"Gracias por utilizar el programa\")\n",
    "        break"
   ]
  },
  {
   "cell_type": "markdown",
   "id": "de26321f",
   "metadata": {},
   "source": [
    "### `break`\n",
    "\n",
    "Con un `break` se puede para un ciclo incluso si la condición es verdadera.\n",
    "\n",
    "- Ejemplo: Salir del bucle cuando i = 3:"
   ]
  },
  {
   "cell_type": "code",
   "execution_count": 7,
   "id": "384dc1b2",
   "metadata": {},
   "outputs": [
    {
     "name": "stdout",
     "output_type": "stream",
     "text": [
      "1\n",
      "2\n"
     ]
    }
   ],
   "source": [
    "i = 1\n",
    "\n",
    "while i < 6:\n",
    "    print(i)\n",
    "    i += 1\n",
    "    \n",
    "    if i == 3:\n",
    "        break"
   ]
  },
  {
   "cell_type": "markdown",
   "id": "71117173",
   "metadata": {},
   "source": [
    "### `continue`\n",
    "\n",
    "Se puede salta la iteración que se indica pasando a la siguiente.\n",
    "\n",
    "- Continuar con la siguiente iteración si i es 3:"
   ]
  },
  {
   "cell_type": "code",
   "execution_count": 8,
   "id": "09c02397",
   "metadata": {},
   "outputs": [
    {
     "name": "stdout",
     "output_type": "stream",
     "text": [
      "1\n",
      "2\n",
      "4\n",
      "5\n",
      "6\n"
     ]
    }
   ],
   "source": [
    "i = 0\n",
    "\n",
    "while i < 6:\n",
    "    i += 1\n",
    "    if i == 3:\n",
    "        continue\n",
    "    print(i)"
   ]
  },
  {
   "cell_type": "markdown",
   "id": "35754cd5",
   "metadata": {},
   "source": [
    "### `else`\n",
    "\n",
    "Se puede correr un bloque de código una vez que la condición ya no es verdadera.\n",
    "\n",
    "- Imprime un mensaje una vez que la condición sea falsa"
   ]
  },
  {
   "cell_type": "code",
   "execution_count": 9,
   "id": "0244112f",
   "metadata": {},
   "outputs": [
    {
     "name": "stdout",
     "output_type": "stream",
     "text": [
      "1\n",
      "2\n",
      "3\n",
      "4\n",
      "5\n",
      "\n",
      " Fin del bucle\n"
     ]
    }
   ],
   "source": [
    "i = 1\n",
    "\n",
    "while i < 6:\n",
    "    print(i)\n",
    "    i += 1\n",
    "    \n",
    "else: \n",
    "    print('\\n Fin del bucle')"
   ]
  },
  {
   "cell_type": "markdown",
   "id": "574932cd",
   "metadata": {},
   "source": [
    "# Matrices (Arrays)\n",
    "<img src = 'https://files.realpython.com/media/Linear-Algebra-With-SciPy-How-to-Use-scipy.linalg_Watermarked.76f069fd1775.jpg'\n",
    "     width = '350'>"
   ]
  },
  {
   "cell_type": "markdown",
   "id": "d3191c2b",
   "metadata": {},
   "source": [
    "En matemáticas, las matrices se definen del siguiente modo.\n",
    "**Matriz.** Una matriz de dimensiones $m\\times n$ es una tabla formada por elementos dispuestos en $m$ filas y $n$ columnas de la forma\n",
    "$$A = \\begin{pmatrix}\n",
    "a_{11} & a_{12} & \\cdots & a_{1n}\\\\\n",
    "a_{21} & a_{22} & \\cdots & a_{2n}\\\\\n",
    "\\vdots & \\vdots & \\ddots & \\vdots\\\\\n",
    "a_{m1} & a_{m2} & \\cdots & a_{mn}\\end{pmatrix}$$\n",
    "Los elementos de la matriz se representan con doble subíndice, $a_{ij}$, donde el primero indica la fila a la que pertenece y, el segundo, la columna.\n",
    "Entonces, la matriz que hemos definido anteriormente"
   ]
  },
  {
   "cell_type": "code",
   "execution_count": 35,
   "id": "3a23aeaa",
   "metadata": {},
   "outputs": [
    {
     "name": "stdout",
     "output_type": "stream",
     "text": [
      "[[9, 8, 7], [6, 5, 4], [3, 2, 1]]\n",
      "<class 'list'>\n"
     ]
    }
   ],
   "source": [
    "m = [[9,8,7],[6,5,4],[3,2,1]] # Forma simple\n",
    "print(m)\n",
    "print(type(m))"
   ]
  },
  {
   "cell_type": "code",
   "execution_count": 36,
   "id": "b91424d8",
   "metadata": {
    "scrolled": true
   },
   "outputs": [
    {
     "name": "stdout",
     "output_type": "stream",
     "text": [
      "<class 'list'>\n",
      "<class 'set'>\n"
     ]
    }
   ],
   "source": [
    "frutas1 = [\"Manzana\",\"Naranja\",\"Uva\",\"Pera\",\"Mandarina\"]\n",
    "frutas2 = {\"Manzana\",\"Naranja\",\"Uva\",\"Pera\",\"Mandarina\"}\n",
    "print(type(frutas1))\n",
    "print(type(frutas2))"
   ]
  },
  {
   "cell_type": "code",
   "execution_count": 38,
   "id": "289b8716",
   "metadata": {},
   "outputs": [
    {
     "name": "stdout",
     "output_type": "stream",
     "text": [
      "[[9, 8, 7], [6, 5, 4], [3, 2, 1]]\n",
      "[[9, 8, 7], [6, 999, 4], [3, 2, 1]]\n"
     ]
    }
   ],
   "source": [
    "m = [[9,8,7],[6,5,4],[3,2,1]]\n",
    "print(m)\n",
    "m[1][1]=999 # Leer posición en una matriz, también comienza en 0\n",
    "print(m)\n",
    "print(m[0][0]) #Lee que se encuentra en la posición\n",
    "#Cuando no lleva = sólo se está leyendo el dato\n",
    "# Cuando lleva el = se está modificando"
   ]
  },
  {
   "cell_type": "markdown",
   "id": "b714925d",
   "metadata": {},
   "source": [
    "## Creando un objeto `ndarray` en Numpy\n",
    "\n",
    "NumPy trabaja facilmente con matrices. Al objeto matriz se le llama `ndarray` en NumPy. Se puede crear dicho objeto con la función `array()`\n",
    "\n",
    "```python\n",
    "numpy.array([matriz], dtype=int/float)\n",
    "```\n",
    "\n",
    "- Ejemplo:"
   ]
  },
  {
   "cell_type": "code",
   "execution_count": 10,
   "id": "7f9a892a",
   "metadata": {},
   "outputs": [
    {
     "name": "stdout",
     "output_type": "stream",
     "text": [
      "[1 2 3 4 5]\n",
      "<class 'numpy.ndarray'>\n"
     ]
    }
   ],
   "source": [
    "import numpy as np\n",
    "\n",
    "matriz = np.array([1,2,3,4,5])\n",
    "\n",
    "print(matriz)\n",
    "\n",
    "print(type(matriz))"
   ]
  },
  {
   "cell_type": "markdown",
   "id": "d7f88900",
   "metadata": {},
   "source": [
    "Para crear una `ndarray` se puede pasar una lista[], una tupla() o un arreglo tipo matriz dentro de `array()` y lo convertirá a un `ndarray()`\n",
    "\n",
    "- Usar una tupla para crear un `array`"
   ]
  },
  {
   "cell_type": "code",
   "execution_count": 11,
   "id": "0330cd48",
   "metadata": {},
   "outputs": [
    {
     "name": "stdout",
     "output_type": "stream",
     "text": [
      "[ 1  2  3 45 54]\n"
     ]
    }
   ],
   "source": [
    "import numpy as np\n",
    "\n",
    "tupla = np.array((1,2,3,45,54))\n",
    "\n",
    "print(tupla)"
   ]
  },
  {
   "cell_type": "markdown",
   "id": "3201a29c",
   "metadata": {},
   "source": [
    "## Dimensiones en arrays\n",
    "\n",
    "**Arrays de dimensión 0** o escalares. Así se les conoce a los elementos de un array. Cada valor en un array es un array de dimensión 0.\n",
    "\n",
    "- Crear un array 0-D con valor de 34"
   ]
  },
  {
   "cell_type": "code",
   "execution_count": 12,
   "id": "f6af0218",
   "metadata": {},
   "outputs": [
    {
     "name": "stdout",
     "output_type": "stream",
     "text": [
      "34\n"
     ]
    }
   ],
   "source": [
    "import numpy as np\n",
    "\n",
    "dimCero = np.array(34)\n",
    "\n",
    "print(dimCero)"
   ]
  },
  {
   "cell_type": "markdown",
   "id": "0ae8ef50",
   "metadata": {},
   "source": [
    "**Arrays 1-D** Es un array que tiene arrays de D-0 como sus elementos. \n",
    "Son las matrices más comúnes y básicas.\n",
    "\n",
    "- Crear un array 1-D que contenga los valores: 1,2,3,4,5,6:"
   ]
  },
  {
   "cell_type": "code",
   "execution_count": 13,
   "id": "dc83d082",
   "metadata": {},
   "outputs": [
    {
     "name": "stdout",
     "output_type": "stream",
     "text": [
      "[1 2 3 4 5 6]\n"
     ]
    }
   ],
   "source": [
    "import numpy as np\n",
    "\n",
    "dimUno = np.array([1,2,3,4,5,6])\n",
    "\n",
    "print(dimUno)"
   ]
  },
  {
   "cell_type": "markdown",
   "id": "db11c608",
   "metadata": {},
   "source": [
    "**Array 2-D**\n",
    "\n",
    "- Crear una matriz 2-D que contenga dos arrays con los valores: 1,2,3 y 4,5,6:"
   ]
  },
  {
   "cell_type": "code",
   "execution_count": 14,
   "id": "bd12e6a3",
   "metadata": {
    "scrolled": true
   },
   "outputs": [
    {
     "name": "stdout",
     "output_type": "stream",
     "text": [
      "[[1 2 3]\n",
      " [4 5 6]]\n"
     ]
    }
   ],
   "source": [
    "import numpy as np\n",
    "\n",
    "dimDos = np.array([[1,2,3],[4,5,6]])\n",
    "\n",
    "print(dimDos)"
   ]
  },
  {
   "cell_type": "markdown",
   "id": "35a090fa",
   "metadata": {},
   "source": [
    "## Array zeros y 1's"
   ]
  },
  {
   "cell_type": "code",
   "execution_count": 15,
   "id": "a0d4c497",
   "metadata": {},
   "outputs": [
    {
     "name": "stdout",
     "output_type": "stream",
     "text": [
      "[0. 0. 0. 0. 0.]\n"
     ]
    }
   ],
   "source": [
    "import numpy as np\n",
    "\n",
    "x = np.zeros(5)\n",
    "\n",
    "print(x)"
   ]
  },
  {
   "cell_type": "code",
   "execution_count": 16,
   "id": "51b02107",
   "metadata": {},
   "outputs": [
    {
     "name": "stdout",
     "output_type": "stream",
     "text": [
      "[0 0 0 0]\n"
     ]
    }
   ],
   "source": [
    "import numpy as np\n",
    "\n",
    "z = np.zeros((4), dtype = int)\n",
    "\n",
    "print(z)"
   ]
  },
  {
   "cell_type": "code",
   "execution_count": 17,
   "id": "48d4782d",
   "metadata": {},
   "outputs": [
    {
     "name": "stdout",
     "output_type": "stream",
     "text": [
      "[[0. 0. 0. 0. 0.]\n",
      " [0. 0. 0. 0. 0.]]\n"
     ]
    }
   ],
   "source": [
    "import numpy as np\n",
    "\n",
    "q = np.zeros((2,5))\n",
    "\n",
    "print(q)"
   ]
  },
  {
   "cell_type": "code",
   "execution_count": 18,
   "id": "2c1ea839",
   "metadata": {},
   "outputs": [
    {
     "name": "stdout",
     "output_type": "stream",
     "text": [
      "[[0. 0.]\n",
      " [0. 0.]]\n"
     ]
    }
   ],
   "source": [
    "import numpy as np\n",
    "\n",
    "s = (2,2)\n",
    "k = np.zeros(s)\n",
    "\n",
    "print(k)"
   ]
  },
  {
   "cell_type": "code",
   "execution_count": 19,
   "id": "86050a5d",
   "metadata": {},
   "outputs": [
    {
     "name": "stdout",
     "output_type": "stream",
     "text": [
      "[[1 1 1]\n",
      " [1 1 1]\n",
      " [1 1 1]]\n"
     ]
    }
   ],
   "source": [
    "import numpy as np\n",
    "m = np.ones((3,3),dtype=int) \n",
    "print(m)"
   ]
  },
  {
   "cell_type": "markdown",
   "id": "6db2be56",
   "metadata": {},
   "source": [
    "## Modificando valores de un array"
   ]
  },
  {
   "cell_type": "code",
   "execution_count": 42,
   "id": "167f14e0",
   "metadata": {},
   "outputs": [
    {
     "name": "stdout",
     "output_type": "stream",
     "text": [
      "[[9 8 7]\n",
      " [6 5 4]\n",
      " [3 2 1]]\n",
      "[[  9   8   7]\n",
      " [  6 999   4]\n",
      " [  3   2   1]]\n",
      "9\n"
     ]
    }
   ],
   "source": [
    "import numpy as np\n",
    "\n",
    "m = np.array([[9,8,7],[6,5,4],[3,2,1]])\n",
    "print(m)\n",
    "m[1,1]=999\n",
    "print(m)\n",
    "print(m[0,0])"
   ]
  },
  {
   "cell_type": "markdown",
   "id": "173b5676",
   "metadata": {},
   "source": [
    "## `random` o aleatorio"
   ]
  },
  {
   "cell_type": "markdown",
   "id": "c5488a63",
   "metadata": {},
   "source": [
    "Un número aleatori NO significa que sea un número distinto para cada vez. Aleatorio quiere decir que algo no se puede predecir de manera lógica. \n",
    "\n",
    "NumPy ofrece el modulo `random` para trabajar con números aleatorios.\n",
    "\n",
    "- Ejemplo: Generar un número aleatorio entre 0 y 100:"
   ]
  },
  {
   "cell_type": "code",
   "execution_count": 32,
   "id": "f94a228a",
   "metadata": {},
   "outputs": [
    {
     "name": "stdout",
     "output_type": "stream",
     "text": [
      "75\n"
     ]
    }
   ],
   "source": [
    "from numpy import random\n",
    "\n",
    "num = random.randint(100)\n",
    "\n",
    "print(num)"
   ]
  },
  {
   "cell_type": "code",
   "execution_count": 29,
   "id": "10938387",
   "metadata": {},
   "outputs": [
    {
     "name": "stdout",
     "output_type": "stream",
     "text": [
      "0.024709396966735464\n",
      "50.48094785854935\n",
      "927.3427037140369\n",
      "2128.13035575981\n"
     ]
    }
   ],
   "source": [
    "import random\n",
    "print(random.random()*1)\n",
    "print(random.random()*100)\n",
    "print(random.random()*1000)\n",
    "print(random.random()*10000)"
   ]
  },
  {
   "cell_type": "code",
   "execution_count": 34,
   "id": "e6b9def3",
   "metadata": {},
   "outputs": [
    {
     "name": "stdout",
     "output_type": "stream",
     "text": [
      "-10\n",
      "-8\n",
      "-3\n",
      "-5\n",
      "-10\n"
     ]
    }
   ],
   "source": [
    "import random\n",
    "v_inicial = -10\n",
    "v_final = 5\n",
    "print(random.randint(v_inicial,v_final))\n",
    "print(random.randint(v_inicial,v_final))\n",
    "print(random.randint(v_inicial,v_final))\n",
    "print(random.randint(v_inicial,v_final))\n",
    "print(random.randint(v_inicial,v_final))"
   ]
  },
  {
   "cell_type": "code",
   "execution_count": 33,
   "id": "df8fa69f",
   "metadata": {},
   "outputs": [
    {
     "name": "stdout",
     "output_type": "stream",
     "text": [
      "-9\n",
      "0\n",
      "-4\n",
      "-9\n",
      "-10\n"
     ]
    }
   ],
   "source": [
    "import random\n",
    "v_inicial = -10\n",
    "v_final = 5\n",
    "print(random.randrange(v_inicial,v_final))\n",
    "print(random.randrange(v_inicial,v_final))\n",
    "print(random.randrange(v_inicial,v_final))\n",
    "print(random.randrange(v_inicial,v_final))\n",
    "print(random.randrange(v_inicial,v_final))"
   ]
  },
  {
   "cell_type": "markdown",
   "id": "4b7aa682",
   "metadata": {},
   "source": [
    "### `rand`\n",
    "\n",
    "El módulo `rand()` genera un número flotante entre 0 y 1.\n",
    "\n",
    "- Ejemplo: Generar un número aleatorio flotante"
   ]
  },
  {
   "cell_type": "code",
   "execution_count": 35,
   "id": "5b288fbd",
   "metadata": {},
   "outputs": [
    {
     "name": "stdout",
     "output_type": "stream",
     "text": [
      "0.2757893547326965\n"
     ]
    }
   ],
   "source": [
    "from numpy import random\n",
    "\n",
    "flotante = random.rand()\n",
    "\n",
    "print(flotante)"
   ]
  },
  {
   "cell_type": "markdown",
   "id": "f0e6890e",
   "metadata": {},
   "source": [
    "## Generar una matriz aleatoria\n",
    "\n",
    "En NumPy se trabaja con matrices y se pueden emplear dos métodos para crear un array aleatorio.\n",
    "\n",
    "### Enteros \n",
    "\n",
    "El método `randint()` toma un parámetro de *tamaño* en donde se puede especificar la forma de la matriz.\n",
    "\n",
    "- Ejemplo: Generar una matriz de D-1 que contenga 5 número aleatorios entre 0 y 100:"
   ]
  },
  {
   "cell_type": "code",
   "execution_count": 38,
   "id": "47ca8225",
   "metadata": {},
   "outputs": [
    {
     "name": "stdout",
     "output_type": "stream",
     "text": [
      "[90 94 81 28 80]\n"
     ]
    }
   ],
   "source": [
    "import numpy as np\n",
    "import random\n",
    "\n",
    "mEnt = np.random.randint(100, size = 5)\n",
    "\n",
    "print(mEnt)"
   ]
  },
  {
   "cell_type": "markdown",
   "id": "0f001172",
   "metadata": {},
   "source": [
    "- Ejemplo 2: Generar una matriz D-2 con 3 filas, cada una que contenga 5 números enteros aleatorios del 0 al 100"
   ]
  },
  {
   "cell_type": "code",
   "execution_count": 39,
   "id": "91960daf",
   "metadata": {},
   "outputs": [
    {
     "name": "stdout",
     "output_type": "stream",
     "text": [
      "[[57 16 36 80  9]\n",
      " [31 78 77 46 28]\n",
      " [57 13 15 61 39]]\n"
     ]
    }
   ],
   "source": [
    "import numpy as np\n",
    "import random\n",
    "\n",
    "mDos = np.random.randint(100, size = (3,5))\n",
    "\n",
    "print(mDos)"
   ]
  },
  {
   "cell_type": "markdown",
   "id": "98cbe2d9",
   "metadata": {},
   "source": [
    "### Flotante\n",
    "\n",
    "El método `rand()` también permite especificar la forma de la matriz.\n",
    "\n",
    "- Ejemplo: Generar una matriz D-1 que contenga 5 número flotantes"
   ]
  },
  {
   "cell_type": "code",
   "execution_count": 40,
   "id": "824968b3",
   "metadata": {},
   "outputs": [
    {
     "name": "stdout",
     "output_type": "stream",
     "text": [
      "[0.62737975 0.31754358 0.65318366 0.65084763 0.17546154]\n"
     ]
    }
   ],
   "source": [
    "import numpy as np\n",
    "import random\n",
    "\n",
    "mFlot = np.random.rand(5)\n",
    "\n",
    "print(mFlot)"
   ]
  },
  {
   "cell_type": "markdown",
   "id": "b042cba8",
   "metadata": {},
   "source": [
    "- Ejemplo 2. Generar una matriz D-2 con 3 filas, cada una que contenga 5 números aleatorios"
   ]
  },
  {
   "cell_type": "code",
   "execution_count": 41,
   "id": "b1b9a4da",
   "metadata": {},
   "outputs": [
    {
     "name": "stdout",
     "output_type": "stream",
     "text": [
      "[[0.11506737 0.38624545 0.4149384  0.41182318 0.59760828]\n",
      " [0.87350174 0.17159522 0.5045809  0.53281481 0.32292137]\n",
      " [0.98979316 0.31609375 0.20429353 0.52637306 0.21119505]]\n"
     ]
    }
   ],
   "source": [
    "import numpy as np\n",
    "import random\n",
    "\n",
    "mf = np.random.rand(3,5)\n",
    "\n",
    "print(mf)"
   ]
  },
  {
   "cell_type": "markdown",
   "id": "0dc865cc",
   "metadata": {},
   "source": [
    "## Ejercicio\n",
    "Realizar un código con el cuál el usuario pueda introducir una matriz de n elementos (solicidando n al usuario), y se genere el llenado de dicha matriz de manera aleatoria (entre 1 y 10) y al final se muestre"
   ]
  },
  {
   "cell_type": "code",
   "execution_count": 27,
   "id": "61e486d4",
   "metadata": {},
   "outputs": [
    {
     "name": "stdout",
     "output_type": "stream",
     "text": [
      "Dame el valor de la matriz: 5\n",
      "[[ 4  3  1  1  6]\n",
      " [10  2  5  6  8]\n",
      " [ 1  5  8  9 10]\n",
      " [ 1  5  7 10  3]\n",
      " [ 8  4  2  6  2]]\n"
     ]
    }
   ],
   "source": [
    "import numpy as np\n",
    "import random\n",
    "\n",
    "v_inicial = 1\n",
    "v_final = 10\n",
    "v = int(input(\"Dame el valor de la matriz: \"))\n",
    "m = np.zeros((v,v),dtype=int)\n",
    "\n",
    "for i in range(v):\n",
    "    for j in range(v):\n",
    "        m[i,j] = random.randint(v_inicial,v_final)\n",
    "print(m)"
   ]
  },
  {
   "cell_type": "code",
   "execution_count": 37,
   "id": "595befc3",
   "metadata": {},
   "outputs": [
    {
     "name": "stdout",
     "output_type": "stream",
     "text": [
      "Dame el valor de la matriz: 5\n",
      "[[5 1 4 4 4]\n",
      " [2 9 4 6 4]\n",
      " [6 7 0 4 4]\n",
      " [8 5 6 4 8]\n",
      " [7 7 3 4 8]]\n"
     ]
    }
   ],
   "source": [
    "import numpy as np\n",
    "import random\n",
    "\n",
    "\n",
    "v = int(input(\"Dame el valor de la matriz: \"))\n",
    "\n",
    "m = np.random.randint(10, size = (v,v))\n",
    "\n",
    "print(m)"
   ]
  },
  {
   "cell_type": "markdown",
   "id": "5b4db5de",
   "metadata": {},
   "source": [
    "## Ejercicio\n",
    "Del código anterior ahora se deberá preguntar al usuario si la matriz mostrada es correcta, en caso afirmativo dar las gracias y se cierra el programa, en caso negativo el programa deberá preguntar que fila y que columna de la matriz es la que se desea corregir así como solicitar el nuevo valor. "
   ]
  },
  {
   "cell_type": "code",
   "execution_count": 29,
   "id": "72384dfa",
   "metadata": {
    "scrolled": true
   },
   "outputs": [
    {
     "name": "stdout",
     "output_type": "stream",
     "text": [
      "Dame el valor de la matriz: 5\n",
      "[[ 1  8  3  9 10]\n",
      " [ 7  8  9  6  3]\n",
      " [ 6  5  5 10  7]\n",
      " [ 1  9  3  1  5]\n",
      " [ 1  3  3  3  2]]\n",
      "¿La matriz es correcta? \n",
      " Responda con 1 si es correcta o con 0 si es incorrecta0\n",
      "El número que deseas cambiar: \n",
      " ¿En qué número de fila se encuentra?: 2\n",
      "¿En qué columna se encuentra?: 4\n",
      "¿Por qué valor lo desea cambiar?: 7\n",
      "[[ 1  8  3  9 10]\n",
      " [ 7  8  9  6  3]\n",
      " [ 6  5  5 10  7]\n",
      " [ 1  9  3  1  5]\n",
      " [ 1  3  3  3  2]]\n"
     ]
    }
   ],
   "source": [
    "import numpy as np\n",
    "import random\n",
    "\n",
    "v_inicial = 1\n",
    "v_final = 10\n",
    "v = int(input(\"Dame el valor de la matriz: \"))\n",
    "m = np.zeros((v,v),dtype=int)\n",
    "\n",
    "for i in range(v):\n",
    "    for j in range(v):\n",
    "        m[i,j] = random.randint(v_inicial,v_final)\n",
    "print(m)\n",
    "r = int(input(\"¿La matriz es correcta? \\n Responda con 1 si es correcta o con 0 si es incorrecta\"))\n",
    "if r==1:\n",
    "    print(\"Gracias\")\n",
    "elif r==0:\n",
    "        f = int(input(\"El número que deseas cambiar: \\n ¿En qué número de fila se encuentra?: \"))\n",
    "        c = int(input(\"¿En qué columna se encuentra?: \"))\n",
    "        nv = int(input(\"¿Por qué valor lo desea cambiar?: \"))\n",
    "        m[f,c] = nv\n",
    "        print(m)\n",
    "else:\n",
    "    print(\"La opción es incorrecta\")"
   ]
  },
  {
   "cell_type": "markdown",
   "id": "1fb0cecf",
   "metadata": {},
   "source": [
    "## Dada una matriz, generar un núm aleatorio\n",
    "\n",
    "El método `choice()` permite generar un valor aleatorio basado en una matriz. Dicho método toma un array como parámetro y regresa aleatoriamente uno de los valores.\n",
    "\n",
    "- Ejemplo. Imprime uno de los valores de la matriz"
   ]
  },
  {
   "cell_type": "code",
   "execution_count": 42,
   "id": "775a769f",
   "metadata": {},
   "outputs": [
    {
     "name": "stdout",
     "output_type": "stream",
     "text": [
      "45\n"
     ]
    }
   ],
   "source": [
    "from numpy import random\n",
    "\n",
    "x = random.choice([1,981,7,45,51,21,4,413])\n",
    "\n",
    "print(x)"
   ]
  },
  {
   "cell_type": "markdown",
   "id": "a268a1b8",
   "metadata": {},
   "source": [
    "Este método también permite devolver una matriz de valores. Se requiere añadir un parámetro de tamaño para especificar la forma del array.\n",
    "\n",
    "- Ejemplo. Generar una matriz D-2 que consista en los valores del array: [3,8,7,9]"
   ]
  },
  {
   "cell_type": "code",
   "execution_count": 43,
   "id": "a3adb164",
   "metadata": {},
   "outputs": [
    {
     "name": "stdout",
     "output_type": "stream",
     "text": [
      "[[8 8 3 7 8]\n",
      " [3 9 9 9 3]\n",
      " [8 3 9 8 9]]\n"
     ]
    }
   ],
   "source": [
    "from numpy import random\n",
    "\n",
    "x = random.choice([3,8,7,9], size = (3,5))\n",
    "\n",
    "print(x)"
   ]
  },
  {
   "cell_type": "markdown",
   "id": "be9bcaa9",
   "metadata": {},
   "source": [
    "## Tarea\n",
    "Modificar el código anterior para que funcione iterativamente. Corregir la modificación de la matriz por cuantas veces el usuario lo requiera. \n",
    "1. Solicitar valor de la matriz\n",
    "2. Mostrar la matriz con los valores aleatorios\n",
    "3. Preguntar si la matriz mostrada es correcta\n",
    "4. Si no, preguntar la fila, la columna y el valor a modificar\n",
    "5. Mostrar la matriz modificada y regresar al punto 3\n",
    "6. Si sí, agradecer y preguntar si desea volver a ejecutar el código\n",
    "7. Si no, dar las gracias y termina el programa\n",
    "8. Si sí, regresar hasta el punto 1"
   ]
  },
  {
   "cell_type": "code",
   "execution_count": 1,
   "id": "3634f7ae",
   "metadata": {},
   "outputs": [
    {
     "name": "stdout",
     "output_type": "stream",
     "text": [
      "\n",
      " \n",
      " \n",
      " Este es un programa que genera una matriz de valores aleatorios\n",
      "\n",
      " ¿Cuál será el valor de la matriz? 5\n",
      "[[3 4 2 1 4]\n",
      " [9 4 6 8 1]\n",
      " [1 2 4 3 6]\n",
      " [7 8 8 8 7]\n",
      " [9 9 2 1 8]]\n",
      "\n",
      " ¿La matriz mostrada es correcta? (Si/No) no\n",
      "\n",
      " El valor que desea modificar: \n",
      " \t ¿en qué fila se encuentra? 3\n",
      "\n",
      " \t ¿en qué columna? 5\n",
      "\n",
      " ¿Por qué valor lo desea cambiar?6545\n",
      "[[   3    4    2    1    4]\n",
      " [   9    4    6    8    1]\n",
      " [   1    2    4    3 6545]\n",
      " [   7    8    8    8    7]\n",
      " [   9    9    2    1    8]]\n",
      "\n",
      " ¿La matriz mostrada es correcta? (Si/No) si\n",
      "\n",
      " ¿Desea volver a ejecutar el código? (Si/No) no\n",
      "\n",
      " \n",
      " \n",
      " Gracias por utilizar el programa\n"
     ]
    }
   ],
   "source": [
    "import numpy as np\n",
    "import random\n",
    "\n",
    "regresar = 0\n",
    "\n",
    "while regresar == 0:\n",
    "    print('\\n \\n \\n Este es un programa que genera una matriz de valores aleatorios')\n",
    "    vm = int(input('\\n ¿Cuál será el valor de la matriz? '))\n",
    "    \n",
    "    m = np.random.randint(10, size = (vm,vm))\n",
    "    print(m)\n",
    "    \n",
    "    while True: \n",
    "        correcta = input('\\n ¿La matriz mostrada es correcta? (Si/No) ')\n",
    "        \n",
    "        if correcta.lower() == 'no':\n",
    "            fila = int(input('\\n El valor que desea modificar: \\n \\t ¿en qué fila se encuentra? '))\n",
    "            columna = int(input('\\n \\t ¿en qué columna? '))\n",
    "            nv = int(input('\\n ¿Por qué valor lo desea cambiar?'))\n",
    "            m[(fila-1),(columna-1)] = nv\n",
    "            print(m)\n",
    "            \n",
    "        else:\n",
    "            break\n",
    "            \n",
    "    volver = input('\\n ¿Desea volver a ejecutar el código? (Si/No) ')\n",
    "    \n",
    "    if volver.lower() == 'si':\n",
    "        regresar = 0\n",
    "        \n",
    "    else: \n",
    "        print('\\n \\n \\n Gracias por utilizar el programa')\n",
    "        break"
   ]
  },
  {
   "cell_type": "markdown",
   "id": "e6896537",
   "metadata": {},
   "source": [
    "# Funciones\n",
    "\n",
    "<img src = 'https://files.realpython.com/media/Defining-Your-Own-Python-Function_Watermarked.d18ffb243c6e.jpg'\n",
    "     width = '350'>\n",
    "`def` viene de *definition*\n",
    "\n",
    "- Una función es un bloque de código que sólo se ejecuta cuando se le llama\n",
    "- Se les puede pasar datos, conocido como parámetros, a una función\n",
    "- Una función puede devolver datos como resultado\n",
    "\n",
    "## Creando una función\n",
    "\n",
    "En Python se define una función utilizando la palabra reservada `def`\n",
    "\n",
    "- Ejemplo"
   ]
  },
  {
   "cell_type": "code",
   "execution_count": 2,
   "id": "071e465e",
   "metadata": {},
   "outputs": [],
   "source": [
    "def mi_funcion():\n",
    "    print('Esto no se va a imprimir porque no se está llamando la funcion')"
   ]
  },
  {
   "cell_type": "markdown",
   "id": "fd4afc8f",
   "metadata": {},
   "source": [
    "## Llamando a un función\n",
    "\n",
    "Para llamar a una funcion, se usa el nombre de la función seguido de un paréntesis\n",
    "\n",
    "- Ejemplo:"
   ]
  },
  {
   "cell_type": "code",
   "execution_count": 3,
   "id": "c50d90af",
   "metadata": {},
   "outputs": [
    {
     "name": "stdout",
     "output_type": "stream",
     "text": [
      "Esto ya se va a imprimir porque la estoy llamando\n"
     ]
    }
   ],
   "source": [
    "def mi_funcion():\n",
    "    print('Esto ya se va a imprimir porque la estoy llamando')\n",
    "    \n",
    "mi_funcion()"
   ]
  },
  {
   "cell_type": "markdown",
   "id": "e4e7c996",
   "metadata": {},
   "source": [
    "## Argumentos\n",
    "\n",
    "Se le puede pasar información a las funciones en forma de argumentos. \n",
    "\n",
    "Los argumentos se especifican después del nombre de la función, dentro de paréntesis. Se pueden agregar tantos argumentos como se quiera, sólo se deben separar por comas.\n",
    "\n",
    "El siguiente ejemplo tiene una función con un argumento (nombre). Cuando se llame a la función, se le pasa también un nombre, el cuál es usado dentro de la función para imprimir el nombre completo.\n",
    "\n",
    "- Ejemplo:"
   ]
  },
  {
   "cell_type": "code",
   "execution_count": 4,
   "id": "478cb755",
   "metadata": {},
   "outputs": [
    {
     "name": "stdout",
     "output_type": "stream",
     "text": [
      "Brenda Sanchez\n",
      "Valeria Sanchez\n",
      "Victor Sanchez\n",
      "Oscar Sanchez\n"
     ]
    }
   ],
   "source": [
    "def mi_funcion(nombre):\n",
    "    print(nombre + ' Sanchez')\n",
    "    \n",
    "mi_funcion('Brenda')\n",
    "mi_funcion('Valeria')\n",
    "mi_funcion('Victor')\n",
    "mi_funcion('Oscar')"
   ]
  },
  {
   "cell_type": "markdown",
   "id": "ae382bd0",
   "metadata": {},
   "source": [
    "### Número de argumentos\n",
    "\n",
    "Por default, una función se debe de llamar con el número correcto de argumentos. Esto quiere decir que tu función necesita 2 argumentos, se tiene que llamar con 2 argumentos, no más, no menos. \n",
    "\n",
    "- Ejemplo: Crear un funcion que requiera 2 argumentos, y obtiene dos argumentos"
   ]
  },
  {
   "cell_type": "code",
   "execution_count": 5,
   "id": "bb4e4f4c",
   "metadata": {},
   "outputs": [
    {
     "name": "stdout",
     "output_type": "stream",
     "text": [
      "Este es el argumento 1: hola \n",
      " Este es el argumento 2: mundo\n"
     ]
    }
   ],
   "source": [
    "def dos_arg(arg_1, arg_2):\n",
    "    print(f'Este es el argumento 1: {arg_1} \\n Este es el argumento 2: {arg_2}')\n",
    "    \n",
    "dos_arg('hola','mundo')"
   ]
  },
  {
   "cell_type": "markdown",
   "id": "e21b5d54",
   "metadata": {},
   "source": [
    "### Argumentos arbitrarios `args`\n",
    "\n",
    "Si no se sabe cuantos argumentos se le pasarán a la función, se tiene que añadir un `*` antes del nombre del parámetro en la definición de la función.\n",
    "\n",
    "De esta forma la función recibirá una *tupla* de argumentos y podrá acceder a cada uno de los objetos respectivamente.\n",
    "\n",
    "- Ejemplo. Generar una función con un número de argumentos desconocido."
   ]
  },
  {
   "cell_type": "code",
   "execution_count": 6,
   "id": "a32a1e06",
   "metadata": {},
   "outputs": [
    {
     "name": "stdout",
     "output_type": "stream",
     "text": [
      "Estos son los argumentos: (4, 87, 53, 'hola mundo', 5.4)\n"
     ]
    }
   ],
   "source": [
    "def desconocido(*argumentos):\n",
    "    print(f'Estos son los argumentos: {argumentos}')\n",
    "    \n",
    "desconocido(4,87,53,'hola mundo', 5.4)"
   ]
  },
  {
   "cell_type": "markdown",
   "id": "212e80f4",
   "metadata": {},
   "source": [
    "### Argumentos con palabras clave\n",
    "\n",
    "También se puede enviar argumentos con la `palabra clave = valor`.\n",
    "\n",
    "De esta forma el orden de los argumentos no importa.\n",
    "\n",
    "- Ejemplo:"
   ]
  },
  {
   "cell_type": "code",
   "execution_count": 7,
   "id": "144a8ad7",
   "metadata": {
    "scrolled": true
   },
   "outputs": [
    {
     "name": "stdout",
     "output_type": "stream",
     "text": [
      "Hola mundo, 3 * 14 = 42\n"
     ]
    }
   ],
   "source": [
    "def funcion(arg_1, arg_2, saludo):\n",
    "    print(f'{saludo}, {arg_1} * {arg_2} = {arg_1*arg_2}' )\n",
    "    \n",
    "funcion(saludo = 'Hola mundo', arg_2 = 14, arg_1 = 3)"
   ]
  },
  {
   "cell_type": "markdown",
   "id": "6fc5f55e",
   "metadata": {},
   "source": [
    "### Argumentos arbitrarios con palabras clave `kwargs`\n",
    "\n",
    "Si se sabe cuantos argumentos de palabras clave se pasarán a la función, se debe agregar dos asteríscos `**` antes del nombre del parámetro en la definición de a función.\n",
    "\n",
    "De esta manera la función recibirá un *diccionario* de argumentos. \n",
    "\n",
    "- Ejemplo:"
   ]
  },
  {
   "cell_type": "code",
   "execution_count": 8,
   "id": "ef15e585",
   "metadata": {},
   "outputs": [
    {
     "name": "stdout",
     "output_type": "stream",
     "text": [
      "Este es el código postal: 42\n"
     ]
    }
   ],
   "source": [
    "def desconocido(**dicci):\n",
    "    print('Este es el código postal: ' + dicci['años'])\n",
    "    \n",
    "desconocido(fruta = 'manzana', ciudad = 'Huatusco', años = '42') # Todo tiene que ser str"
   ]
  },
  {
   "cell_type": "markdown",
   "id": "bdfc7489",
   "metadata": {},
   "source": [
    "### Valor de parámetro predeterminado\n",
    "\n",
    "El siguiente ejemplo muestra como utilizar un valor de parámetro predeterminado.\n",
    "\n",
    "Si se llama a una función sin argumentos, esta utilizará el valor por default.\n",
    "\n",
    "- Ejemplo:"
   ]
  },
  {
   "cell_type": "code",
   "execution_count": 9,
   "id": "2ebca24e",
   "metadata": {
    "scrolled": true
   },
   "outputs": [
    {
     "name": "stdout",
     "output_type": "stream",
     "text": [
      "El país que más me gusta es: Argentina\n",
      "El país que más me gusta es: China\n",
      "El país que más me gusta es: Mexico\n",
      "El país que más me gusta es: Rusia\n"
     ]
    }
   ],
   "source": [
    "def lugares(pais = 'Mexico'):\n",
    "    print(f'El país que más me gusta es: {pais}')\n",
    "    \n",
    "lugares('Argentina')\n",
    "lugares('China')\n",
    "lugares()\n",
    "lugares('Rusia')"
   ]
  },
  {
   "cell_type": "markdown",
   "id": "a79c3fcf",
   "metadata": {},
   "source": [
    "### Pasando una `lista[ ]` como argumento\n",
    "\n",
    "Se puede enviar cualquier tipo de argumentos a una función (strings, números, listas, diccionarios, etc), y será tratado como el mismo tipo de datos dentro de la función. \n",
    "\n",
    "Por ejemplo, si se envía una lista como argumento, seguirá siendo una lista cuando llegue a la función. \n",
    "\n",
    "- Ejemplo. "
   ]
  },
  {
   "cell_type": "code",
   "execution_count": 10,
   "id": "86f4b097",
   "metadata": {},
   "outputs": [
    {
     "name": "stdout",
     "output_type": "stream",
     "text": [
      "manzana\n",
      "durazno\n",
      "platano\n",
      "guayaba\n"
     ]
    }
   ],
   "source": [
    "def lista(frutas):\n",
    "    for f in frutas:\n",
    "        print(f)\n",
    "    \n",
    "lista(['manzana', 'durazno', 'platano', 'guayaba'])"
   ]
  },
  {
   "cell_type": "markdown",
   "id": "6945938e",
   "metadata": {},
   "source": [
    "# `return`\n",
    "\n",
    "<img src = 'https://realpython.com/cdn-cgi/image/width=640,format=auto/https://files.realpython.com/media/The-Python-return-Statement_Watermarked.42392feb6973.jpg'\n",
    "     width = '350'>\n",
    "\n",
    "Para permitir que una función devuelva un valor, utilizar `return`\n",
    "\n",
    "## `print` vs `return`\n",
    "\n",
    "El `print` se utiliza cuando, una vez que se ejecuta la función deseo mostrar en algún momento el resultado y ya no realizar otras cosas con él.  \n",
    "\n",
    "Por el contrario, se utiliza `return` si lo que se busca es realizar otras cosas con el resultado. El resultado se puede almacenar en una variable y después se puede utilizar en otras partes del código. \n",
    "\n",
    "- Ejemplo."
   ]
  },
  {
   "cell_type": "code",
   "execution_count": 11,
   "id": "be6bf226",
   "metadata": {
    "scrolled": true
   },
   "outputs": [
    {
     "name": "stdout",
     "output_type": "stream",
     "text": [
      "(40, 13)\n",
      "(15, 8)\n",
      "(5, 6)\n"
     ]
    }
   ],
   "source": [
    "def funcion(x):\n",
    "    return 5*x, 5+x\n",
    "\n",
    "print(funcion(8))\n",
    "print(funcion(3))\n",
    "print(funcion(1))"
   ]
  },
  {
   "cell_type": "markdown",
   "id": "198d827d",
   "metadata": {},
   "source": [
    "## Los 5 tipos de funciones\n",
    "- Función **sin parámetros** de entrada y **sin return**"
   ]
  },
  {
   "cell_type": "code",
   "execution_count": 12,
   "id": "fb3731af",
   "metadata": {},
   "outputs": [
    {
     "name": "stdout",
     "output_type": "stream",
     "text": [
      "Programa que hace una suma\n",
      "Ingrese un número: 3\n",
      "Ingrese el siguiente número: 6\n",
      "9\n"
     ]
    }
   ],
   "source": [
    "def suma():\n",
    "    num1 = int(input('Ingrese un número: '))\n",
    "    num2 = int(input('Ingrese el siguiente número: '))\n",
    "    s = num1 + num2\n",
    "    print(s)\n",
    "    \n",
    "print('Programa que hace una suma')\n",
    "suma()"
   ]
  },
  {
   "cell_type": "markdown",
   "id": "4303d450",
   "metadata": {},
   "source": [
    "- Función **sin parámetros** de entrada y con **return**"
   ]
  },
  {
   "cell_type": "code",
   "execution_count": 13,
   "id": "67a0bb15",
   "metadata": {
    "scrolled": true
   },
   "outputs": [
    {
     "name": "stdout",
     "output_type": "stream",
     "text": [
      "Programa que hace una suma\n",
      "Ingrese un número: 6\n",
      "Ingrese el siguiente número: 4\n",
      "10\n"
     ]
    }
   ],
   "source": [
    "def suma():\n",
    "    num1 = int(input('Ingrese un número: '))\n",
    "    num2 = int(input('Ingrese el siguiente número: '))\n",
    "    s = num1 + num2\n",
    "    return s\n",
    "    \n",
    "print('Programa que hace una suma')\n",
    "x = suma() \n",
    "print(x)"
   ]
  },
  {
   "cell_type": "markdown",
   "id": "2253a2f4",
   "metadata": {},
   "source": [
    "- Función **sin parámetros** y con **return** con variables de **distinto** tipo"
   ]
  },
  {
   "cell_type": "code",
   "execution_count": 14,
   "id": "cc92a5c6",
   "metadata": {},
   "outputs": [
    {
     "name": "stdout",
     "output_type": "stream",
     "text": [
      "Programa que hace una suma\n",
      "Ingrese un número: 8\n",
      "Ingrese el siguiente número: 6\n",
      "14\n",
      "Mi nombre es: Brenda\n",
      "La constante de pi es: 3.141592653589793\n"
     ]
    }
   ],
   "source": [
    "import math\n",
    "def suma():\n",
    "    num1 = int(input('Ingrese un número: '))\n",
    "    num2 = int(input('Ingrese el siguiente número: '))\n",
    "    s = num1 + num2\n",
    "    p = math.pi\n",
    "    nombre = 'Brenda'\n",
    "    return(s,p,nombre)\n",
    "    \n",
    "print('Programa que hace una suma')\n",
    "x,pp,m = suma() \n",
    "print(x)\n",
    "print(f'Mi nombre es: {m}')\n",
    "print(f'La constante de pi es: {pp}')"
   ]
  },
  {
   "cell_type": "markdown",
   "id": "f7b93259",
   "metadata": {},
   "source": [
    "- Función **con parámetros** y **sin return**"
   ]
  },
  {
   "cell_type": "code",
   "execution_count": 14,
   "id": "797a9da3",
   "metadata": {},
   "outputs": [
    {
     "name": "stdout",
     "output_type": "stream",
     "text": [
      "Programa que hace una suma\n",
      "Ingrese un número: 1\n",
      "Ingrese el siguiente número: 1\n",
      "2\n",
      "Hola mundo\n"
     ]
    }
   ],
   "source": [
    "def suma(num1,num2,pedrito):\n",
    "    s = num1 + num2\n",
    "    print(s)\n",
    "    print(pedrito)\n",
    "\n",
    "print('Programa que hace una suma')\n",
    "a = int(input('Ingrese un número: '))\n",
    "b = int(input('Ingrese el siguiente número: '))\n",
    "c = 'Hola mundo'\n",
    "suma(a,b,c)"
   ]
  },
  {
   "cell_type": "markdown",
   "id": "7b73d79a",
   "metadata": {},
   "source": [
    "- Función con **parámetros** y con **return**"
   ]
  },
  {
   "cell_type": "code",
   "execution_count": 16,
   "id": "d963b5d5",
   "metadata": {},
   "outputs": [
    {
     "name": "stdout",
     "output_type": "stream",
     "text": [
      "Programa que hace una suma\n",
      "Ingrese un número: 1\n",
      "Ingrese el siguiente número: 1\n",
      "2\n",
      "Hola mundo\n"
     ]
    }
   ],
   "source": [
    "def suma(num1,num2,pedrito):\n",
    "    s = num1 + num2\n",
    "    return(s,pedrito)\n",
    "\n",
    "print('Programa que hace una suma')\n",
    "a = int(input('Ingrese un número: '))\n",
    "b = int(input('Ingrese el siguiente número: '))\n",
    "c = 'Hola mundo'\n",
    "x,y = suma(a,b,c)\n",
    "print(x)\n",
    "print(y)"
   ]
  },
  {
   "cell_type": "markdown",
   "id": "c045a679",
   "metadata": {},
   "source": [
    "## Ejercicio\n",
    "Hacer un programa utilizando funciones que calcule el área de tres figura geométricas.\n",
    "1. Círculo - Función sin parámetros de entrada ni return\n",
    "2. Rectángulo - Función con parámetros de entrada y sin return\n",
    "3. Triángulo -Función con parámetros de entrada y return\n"
   ]
  },
  {
   "cell_type": "code",
   "execution_count": 15,
   "id": "30ad9906",
   "metadata": {},
   "outputs": [
    {
     "name": "stdout",
     "output_type": "stream",
     "text": [
      "Este programa realiza el cálculo de áreas de las siguientes figuras: \n",
      "\n",
      "    \t 1. Círculo \n",
      "\n",
      "    \t 2. Rectángulo \n",
      "\n",
      "    \t 3. Triángulo \n",
      "\n",
      "\n",
      " Por favor, seleccione el área que desea calcular: 1\n",
      "\n",
      " Cálculo del área del círculo\n",
      "\n",
      " Por favor, ingrese valor del radio: 2\n",
      "12.57\n",
      "\n",
      " ¿Desea reiniciar el programa? (Si/No) no\n",
      "\n",
      " \n",
      " \n",
      " Gracias por utilizar el programa. \n"
     ]
    }
   ],
   "source": [
    "import math\n",
    "\n",
    "#########################################################################\n",
    "#                           CÁLCULO DE ÁREAS                            #\n",
    "#########################################################################\n",
    "\n",
    "# Área círculo\n",
    "def circ():\n",
    "    radio = float(input('\\n Por favor, ingrese valor del radio: '))\n",
    "    a_circ = math.pi * radio**2\n",
    "    print(round(a_circ,2))\n",
    "\n",
    "# Área rectáculo\n",
    "def rec(base,altura):\n",
    "    a_rec = base*altura\n",
    "    print(round(a_rec,2))\n",
    "    \n",
    "# Área triángulo\n",
    "def tria(b_t,a_t):\n",
    "    a_tria = (b_t*a_t)/2\n",
    "    return(round(a_tria,2))\n",
    "\n",
    "#######################################################################\n",
    "\n",
    "regresar = 0\n",
    "\n",
    "while regresar == 0:\n",
    "    #########################################################################\n",
    "    #                              MENÚ                                     #\n",
    "    #########################################################################\n",
    "    print('''Este programa realiza el cálculo de áreas de las siguientes figuras: \\n\n",
    "    \\t 1. Círculo \\n\n",
    "    \\t 2. Rectángulo \\n\n",
    "    \\t 3. Triángulo \\n''')\n",
    "        \n",
    "    while True:\n",
    "        usuario = int(input('\\n Por favor, seleccione el área que desea calcular: '))\n",
    "        \n",
    "        if usuario <1 or usuario >3:\n",
    "            print('\\n \\t Opción no valida, por favor, intente de nuevo. ')\n",
    "            \n",
    "        else:\n",
    "            break\n",
    "    \n",
    "    #########################################################################\n",
    "    #                         SOLICITUD DE DATOS                            #\n",
    "    #########################################################################\n",
    "\n",
    "    if usuario == 1:\n",
    "        print('\\n Cálculo del área del círculo')\n",
    "        circ()\n",
    "\n",
    "    elif usuario == 2:\n",
    "        print('\\n Cálculo del área de un rectángulo')\n",
    "        br = float(input('\\n \\t Ingrese el valor de la base: '))\n",
    "        ar = float(input('\\n \\t Ingrese el valor de la altura: '))\n",
    "        rec(br,ar)\n",
    "\n",
    "    elif usuario == 3:\n",
    "        print('\\n Cálculo del área de un triángulo')\n",
    "        bt = float(input('\\n Ingrese el valor de la base: '))\n",
    "        at = float(input('\\n Ingrese el valor de la altura: '))\n",
    "        at = tria(bt,at)\n",
    "        print(at)\n",
    "        \n",
    "    #####################################################################\n",
    "    \n",
    "    volver = input('\\n ¿Desea reiniciar el programa? (Si/No) ')\n",
    "    \n",
    "    if volver.lower() == 'si':\n",
    "        regresar = 0\n",
    "        \n",
    "    else:\n",
    "        print('\\n \\n \\n Gracias por utilizar el programa. ')\n",
    "        break"
   ]
  },
  {
   "cell_type": "markdown",
   "id": "21e1680f",
   "metadata": {},
   "source": [
    "# Clases\n",
    "<img src = 'https://files.realpython.com/media/Object-Oriented-Programming-OOP-in-Python-3_Watermarked.0d29780806d5.jpg'\n",
    "     width = '350'>\n",
    "## Clases y objetos\n",
    "Python es un lenguaje de programación orientado a objetos.\n",
    "\n",
    "Casi todo en Python es un objeto, con sus propiedades y métodos.\n",
    "\n",
    "Una clase es como un molde o plantilla para crear otros objetos.\n",
    "\n",
    "### Creando una clase\n",
    "Para crear una clase, se utiliza la palabra reservada `class`:\n",
    "\n",
    "- Ejemplo: crear una clase que se llame \"MiClase\", con una propiedad que se llame x:"
   ]
  },
  {
   "cell_type": "code",
   "execution_count": 16,
   "id": "8b4d22a8",
   "metadata": {},
   "outputs": [],
   "source": [
    "class MiClase:\n",
    "    x = 5\n",
    "    #cuando se ejecuta no existe una salida porque no se está llamando a la función"
   ]
  },
  {
   "cell_type": "code",
   "execution_count": 1,
   "id": "bcf39d41",
   "metadata": {},
   "outputs": [],
   "source": [
    "class Alumno:\n",
    "    def Saludar(self):\n",
    "        print('Hola mundo') # aquí no se imprime el valor de la funcion"
   ]
  },
  {
   "cell_type": "code",
   "execution_count": 3,
   "id": "0a6f5c47",
   "metadata": {},
   "outputs": [
    {
     "name": "stdout",
     "output_type": "stream",
     "text": [
      "Hola mundo\n"
     ]
    }
   ],
   "source": [
    "a = Alumno()\n",
    "a.Saludar() # aquí ya se manda a llamar a la función y se muestra su valor"
   ]
  },
  {
   "cell_type": "markdown",
   "id": "e5ec27cf",
   "metadata": {},
   "source": [
    "### La función `__init__()`\n",
    "Los ejemplos de arriba son clases y objetos en su forma más simple, no son muy útiles en aplicaciones de la vida real.\n",
    "\n",
    "Para entender el significado de las clases, se debe de entender a la función `__init__()`.\n",
    "\n",
    "Todas las clases tienen una función llamada `__init__()`, que siempre se ejecuta cuando la clase se inicia.\n",
    "\n",
    "Se usa esta función para asignar valores a propiedadess de un objeto, u otras operaciones que son necesarias cuando se llama al objeto.\n",
    "\n",
    "- Ejemplo: Crea una clase que se llame \"Persona\", utilizar la función `__init__()` para asignar valores para el nombre y la edad."
   ]
  },
  {
   "cell_type": "code",
   "execution_count": 17,
   "id": "f1a52138",
   "metadata": {},
   "outputs": [
    {
     "name": "stdout",
     "output_type": "stream",
     "text": [
      "Brenda\n",
      "87\n"
     ]
    }
   ],
   "source": [
    "class Persona:\n",
    "    def __init__(self, nombre , edad):\n",
    "        self.nombre = nombre\n",
    "        self.edad = edad\n",
    "        \n",
    "p1 = Persona(\"Brenda\", 87)\n",
    "print(p1.nombre)\n",
    "print(p1.edad)"
   ]
  },
  {
   "cell_type": "code",
   "execution_count": 4,
   "id": "0fc7734b",
   "metadata": {},
   "outputs": [],
   "source": [
    "class Alumno:\n",
    "    def __init__(self):\n",
    "        self.nombre='Brenda'\n",
    "        \n",
    "    def Saludar(self):\n",
    "        print('Hola {0}'.format(self.nombre))"
   ]
  },
  {
   "cell_type": "code",
   "execution_count": 5,
   "id": "4ebb57a5",
   "metadata": {},
   "outputs": [
    {
     "name": "stdout",
     "output_type": "stream",
     "text": [
      "Hola Brenda\n"
     ]
    }
   ],
   "source": [
    "a = Alumno()\n",
    "a.Saludar()"
   ]
  },
  {
   "cell_type": "code",
   "execution_count": 6,
   "id": "dc4244c4",
   "metadata": {},
   "outputs": [],
   "source": [
    "class Alumno: #se define una clase llamada Alumno y tiene dos métodos: init y Saludar\n",
    "    \n",
    "    def __init__(self,pera): #M. init. se ejecuta de manera automática cuando se crea un objeto de la clase Alumno\n",
    "        self.nombre=pera  #Recibe un parámetro llamado \"pera\" y lo utiliza para asignar el valor a un atributo llamado \"nombre\" dentro del objeto\n",
    "        \n",
    "    def Saludar(self): # El método \"Saludar\" simplemente imprime un mensaje de saludo personalizado con el nombre del alumno\n",
    "        print('Hola {0}'.format(self.nombre))"
   ]
  },
  {
   "cell_type": "code",
   "execution_count": 8,
   "id": "811d5ec2",
   "metadata": {},
   "outputs": [
    {
     "name": "stdout",
     "output_type": "stream",
     "text": [
      "Hola Pedro\n"
     ]
    }
   ],
   "source": [
    "a = Alumno('Pedro') #se crea un objeto \"a\" de la clase \"alumno\" con el nombre \"Pedro\"\n",
    "a.Saludar() # se llama al método \"Saludar\""
   ]
  },
  {
   "cell_type": "markdown",
   "id": "283cb581",
   "metadata": {},
   "source": [
    "### La funcion `__str__()`\n",
    "Esta función controla que debería regresarse cuando el objeto de la clase se representa como una cadena.\n",
    "\n",
    "Si la función `__str__()` no se pone, la representación de la cadena del objeto se regresa.\n",
    "\n",
    "- Ejemplo: La representación de un objeto sin la función `__str__()`:"
   ]
  },
  {
   "cell_type": "code",
   "execution_count": 18,
   "id": "3a8ab824",
   "metadata": {},
   "outputs": [
    {
     "name": "stdout",
     "output_type": "stream",
     "text": [
      "<__main__.Persona object at 0x0000012DFF4D7400>\n"
     ]
    }
   ],
   "source": [
    "class Person:\n",
    "    def __init__(self, nombre, edad):\n",
    "        self.nombre = nombre\n",
    "        self.edad = edad\n",
    "        \n",
    "p1 = Persona(\"Carlos\", 54)\n",
    "\n",
    "print(p1)"
   ]
  },
  {
   "cell_type": "markdown",
   "id": "a641334e",
   "metadata": {},
   "source": [
    "- Ejemplo: la representación de una cadena de un objeto con la función `__str__()`:"
   ]
  },
  {
   "cell_type": "code",
   "execution_count": 19,
   "id": "49cd5a1b",
   "metadata": {},
   "outputs": [
    {
     "name": "stdout",
     "output_type": "stream",
     "text": [
      "Aranza tiene 27 años\n"
     ]
    }
   ],
   "source": [
    "class Persona:\n",
    "    def __init__(self, nombre, edad):\n",
    "        self.nombre = nombre\n",
    "        self.edad = edad\n",
    "        \n",
    "    def __str__(self):\n",
    "        return f'{self.nombre} tiene {self.edad} años'\n",
    "    \n",
    "p1 = Persona(\"Aranza\", 27)\n",
    "\n",
    "print(p1)"
   ]
  },
  {
   "cell_type": "markdown",
   "id": "2a837822",
   "metadata": {},
   "source": [
    "## Métodos de objetos\n",
    "Los objetos también pueden tener métodos. Los métodos en objetos son funciones que pertenecen al objeto.\n",
    "\n",
    "Creando un método en la clase \"Persona\".\n",
    "\n",
    "- Ejemplo: Insertar una función que imprima un saludo y que se ejecute en el objeto p1."
   ]
  },
  {
   "cell_type": "code",
   "execution_count": 20,
   "id": "5a6c9a85",
   "metadata": {},
   "outputs": [
    {
     "name": "stdout",
     "output_type": "stream",
     "text": [
      "Hola, mi nombre es Alejandro\n"
     ]
    }
   ],
   "source": [
    "class Persona:\n",
    "    def __init__(self, nombre, edad):\n",
    "        self.nombre = nombre\n",
    "        self.edad = edad\n",
    "        \n",
    "    def Saludo(self):\n",
    "        print('Hola, mi nombre es ' + self.nombre)\n",
    "        \n",
    "p1 = Persona('Alejandro', 56)\n",
    "p1.Saludo()"
   ]
  },
  {
   "cell_type": "markdown",
   "id": "dabeddb1",
   "metadata": {},
   "source": [
    "### El parámetro `self`\n",
    "Es una referencia a la instancia actual de la clase, se usa para acceder a las variables que pertenecen a la clase.\n",
    "\n",
    "No tiene por qué ser nombrada `self`, se le puede llamar de cualquier forma, pero tiene que ser el primer parámetro de cualquier función en una clase.\n",
    "\n",
    "- Ejemplo: Usa las palabras *MiObjetoBobo* y *abc* en lugar de `self`"
   ]
  },
  {
   "cell_type": "code",
   "execution_count": 21,
   "id": "e3b51cdc",
   "metadata": {},
   "outputs": [
    {
     "name": "stdout",
     "output_type": "stream",
     "text": [
      "Hola, mi nombre es Alvaro\n"
     ]
    }
   ],
   "source": [
    "class Persona:\n",
    "    def __init__(MiObjetoBobo, nombre, edad):\n",
    "        MiObjetoBobo.nombre = nombre\n",
    "        MiObjetoBobo.edad = edad\n",
    "        \n",
    "    def MiFuncion(abc):\n",
    "        print('Hola, mi nombre es ' + abc.nombre)\n",
    "        \n",
    "p1 = Persona(\"Alvaro\", 87)\n",
    "p1.MiFuncion()"
   ]
  },
  {
   "cell_type": "markdown",
   "id": "9e4eb305",
   "metadata": {},
   "source": [
    "### Modificando propiedades de un objeto\n",
    "Se pueden modificar las propiedades en objetos de la siguiente manera:\n",
    "\n",
    "- Ejemplo: Establecer la edad de p1 a 40."
   ]
  },
  {
   "cell_type": "code",
   "execution_count": 22,
   "id": "4ae99ead",
   "metadata": {},
   "outputs": [
    {
     "name": "stdout",
     "output_type": "stream",
     "text": [
      "Hola, mi nombre es Alvaro y tengo 87\n",
      "Hola, mi nombre es Alvaro y tengo 40\n"
     ]
    }
   ],
   "source": [
    "class Persona:\n",
    "    def __init__(MiObjetoBobo, nombre, edad):\n",
    "        MiObjetoBobo.nombre = nombre\n",
    "        MiObjetoBobo.edad = edad\n",
    "        \n",
    "    def MiFuncion(abc):\n",
    "        print('Hola, mi nombre es ' + abc.nombre + ' y tengo ' + str(abc.edad))\n",
    "        \n",
    "p1 = Persona(\"Alvaro\", 87)\n",
    "p1.MiFuncion()\n",
    "p1.edad = 40\n",
    "p1.MiFuncion()"
   ]
  },
  {
   "cell_type": "markdown",
   "id": "0be8a0f8",
   "metadata": {},
   "source": [
    "### Eliminar propiedades de objetos\n",
    "Se pueden eliminar propiedades en objetos utilizando la palabra reservada `del`.\n",
    "\n",
    "- Ejemplo: Eliminar la propiedad de edad del objeto p1."
   ]
  },
  {
   "cell_type": "code",
   "execution_count": 23,
   "id": "e985035a",
   "metadata": {},
   "outputs": [
    {
     "name": "stdout",
     "output_type": "stream",
     "text": [
      "Hola, mi nombre es Alvaro y tengo 87\n",
      "Hola, mi nombre es Alvaro y tengo 40\n"
     ]
    },
    {
     "ename": "AttributeError",
     "evalue": "'Persona' object has no attribute 'edad'",
     "output_type": "error",
     "traceback": [
      "\u001b[1;31m------------------------------------------------\u001b[0m",
      "\u001b[1;31mAttributeError\u001b[0m Traceback (most recent call last)",
      "Cell \u001b[1;32mIn[23], line 16\u001b[0m\n\u001b[0;32m     13\u001b[0m p1\u001b[38;5;241m.\u001b[39mMiFuncion()\n\u001b[0;32m     15\u001b[0m \u001b[38;5;28;01mdel\u001b[39;00m p1\u001b[38;5;241m.\u001b[39medad\n\u001b[1;32m---> 16\u001b[0m \u001b[43mp1\u001b[49m\u001b[38;5;241;43m.\u001b[39;49m\u001b[43mMiFuncion\u001b[49m\u001b[43m(\u001b[49m\u001b[43m)\u001b[49m \u001b[38;5;66;03m#AttributeError: 'Persona' object has no attribute 'edad'\u001b[39;00m\n",
      "Cell \u001b[1;32mIn[23], line 7\u001b[0m, in \u001b[0;36mPersona.MiFuncion\u001b[1;34m(abc)\u001b[0m\n\u001b[0;32m      6\u001b[0m \u001b[38;5;28;01mdef\u001b[39;00m \u001b[38;5;21mMiFuncion\u001b[39m(abc):\n\u001b[1;32m----> 7\u001b[0m     \u001b[38;5;28mprint\u001b[39m(\u001b[38;5;124m'\u001b[39m\u001b[38;5;124mHola, mi nombre es \u001b[39m\u001b[38;5;124m'\u001b[39m \u001b[38;5;241m+\u001b[39m abc\u001b[38;5;241m.\u001b[39mnombre \u001b[38;5;241m+\u001b[39m \u001b[38;5;124m'\u001b[39m\u001b[38;5;124m y tengo \u001b[39m\u001b[38;5;124m'\u001b[39m \u001b[38;5;241m+\u001b[39m \u001b[38;5;28mstr\u001b[39m(\u001b[43mabc\u001b[49m\u001b[38;5;241;43m.\u001b[39;49m\u001b[43medad\u001b[49m))\n",
      "\u001b[1;31mAttributeError\u001b[0m: 'Persona' object has no attribute 'edad'"
     ]
    }
   ],
   "source": [
    "class Persona:\n",
    "    def __init__(MiObjetoBobo, nombre, edad):\n",
    "        MiObjetoBobo.nombre = nombre\n",
    "        MiObjetoBobo.edad = edad\n",
    "        \n",
    "    def MiFuncion(abc):\n",
    "        print('Hola, mi nombre es ' + abc.nombre + ' y tengo ' + str(abc.edad))\n",
    "        \n",
    "p1 = Persona(\"Alvaro\", 87)\n",
    "p1.MiFuncion()\n",
    "\n",
    "p1.edad = 40\n",
    "p1.MiFuncion()\n",
    "\n",
    "del p1.edad\n",
    "p1.MiFuncion() #AttributeError: 'Persona' object has no attribute 'edad'"
   ]
  },
  {
   "cell_type": "markdown",
   "id": "f14c495e",
   "metadata": {},
   "source": [
    "### Eliminar objetos\n",
    "También se pueden eliminar objetos utilizando la palabra reservada `del`.\n",
    "\n",
    "- Ejemplo: Borrar el objeto p1."
   ]
  },
  {
   "cell_type": "code",
   "execution_count": 24,
   "id": "5f78c200",
   "metadata": {},
   "outputs": [
    {
     "name": "stdout",
     "output_type": "stream",
     "text": [
      "Hola, mi nombre es Alvaro y tengo 87\n"
     ]
    },
    {
     "ename": "NameError",
     "evalue": "name 'p1' is not defined",
     "output_type": "error",
     "traceback": [
      "\u001b[1;31m------------------------------------------------\u001b[0m",
      "\u001b[1;31mNameError\u001b[0m      Traceback (most recent call last)",
      "Cell \u001b[1;32mIn[24], line 13\u001b[0m\n\u001b[0;32m     10\u001b[0m p1\u001b[38;5;241m.\u001b[39mMiFuncion()\n\u001b[0;32m     12\u001b[0m \u001b[38;5;28;01mdel\u001b[39;00m p1\n\u001b[1;32m---> 13\u001b[0m \u001b[43mp1\u001b[49m\u001b[38;5;241m.\u001b[39mMiFuncion() \u001b[38;5;66;03m#NameError: name 'p1' is not defined\u001b[39;00m\n",
      "\u001b[1;31mNameError\u001b[0m: name 'p1' is not defined"
     ]
    }
   ],
   "source": [
    "class Persona:\n",
    "    def __init__(MiObjetoBobo, nombre, edad):\n",
    "        MiObjetoBobo.nombre = nombre\n",
    "        MiObjetoBobo.edad = edad\n",
    "        \n",
    "    def MiFuncion(abc):\n",
    "        print('Hola, mi nombre es ' + abc.nombre + ' y tengo ' + str(abc.edad))\n",
    "        \n",
    "p1 = Persona(\"Alvaro\", 87)\n",
    "p1.MiFuncion()\n",
    "\n",
    "del p1\n",
    "p1.MiFuncion() #NameError: name 'p1' is not defined"
   ]
  },
  {
   "cell_type": "markdown",
   "id": "9c061363",
   "metadata": {},
   "source": [
    "# Libreria Matplotlib\n",
    "<img src = 'https://warehouse-camo.ingress.cmh1.psfhosted.org/42ca79ff99d75bf2cb4e6097c8006b52d36484df/68747470733a2f2f6d6174706c6f746c69622e6f72672f5f7374617469632f6c6f676f322e737667'\n",
    "     width = '300'>\n",
    "     \n",
    "Matplotlib es una biblioteca para la generación de gráficos en dos dimensiones, gráficos animados y visualizaciones interactivas a partir de datos contenidos en listas o arrays en el lenguaje de programación Python.\n",
    "\n",
    "\n",
    "## Anatomía de una figura"
   ]
  },
  {
   "cell_type": "code",
   "execution_count": 1,
   "id": "2f5481ea",
   "metadata": {},
   "outputs": [
    {
     "data": {
      "image/png": "[encoded data removed]",
      "text/plain": [
       "<Figure size 800x800 with 1 Axes>"
      ]
     },
     "metadata": {},
     "output_type": "display_data"
    }
   ],
   "source": [
    "import numpy as np\n",
    "import matplotlib.pyplot as plt\n",
    "from matplotlib.ticker import AutoMinorLocator, MultipleLocator\n",
    "\n",
    "np.random.seed(19680801)\n",
    "\n",
    "X = np.linspace(0.5, 3.5, 100)\n",
    "Y1 = 3+np.cos(X)\n",
    "Y2 = 1+np.cos(1+X/0.75)/2\n",
    "Y3 = np.random.uniform(Y1, Y2, len(X))\n",
    "\n",
    "fig = plt.figure(figsize=(8, 8)) # pulgadas\n",
    "ax = fig.add_subplot(1, 1, 1, aspect=1)\n",
    "\n",
    "\n",
    "def minor_tick(x, pos):\n",
    "    if not x % 1.0:\n",
    "        return \"\"\n",
    "    return f\"{x:.2f}\"\n",
    "\n",
    "ax.xaxis.set_major_locator(MultipleLocator(1.000))\n",
    "ax.xaxis.set_minor_locator(AutoMinorLocator(4))\n",
    "ax.yaxis.set_major_locator(MultipleLocator(1.000))\n",
    "ax.yaxis.set_minor_locator(AutoMinorLocator(4))\n",
    "# FuncFormatter is created and used automatically\n",
    "ax.xaxis.set_minor_formatter(minor_tick)\n",
    "\n",
    "ax.set_xlim(0, 4)\n",
    "ax.set_ylim(0, 4)\n",
    "\n",
    "ax.tick_params(which='major', width=1.0)\n",
    "ax.tick_params(which='major', length=10)\n",
    "ax.tick_params(which='minor', width=1.0, labelsize=10)\n",
    "ax.tick_params(which='minor', length=5, labelsize=10, labelcolor='0.25')\n",
    "\n",
    "ax.grid(linestyle=\"--\", linewidth=0.5, color='.25', zorder=-10)\n",
    "\n",
    "ax.plot(X, Y1, c=(0.25, 0.25, 1.00), lw=2, label=\"Blue signal\", zorder=10)\n",
    "ax.plot(X, Y2, c=(1.00, 0.25, 0.25), lw=2, label=\"Red signal\")\n",
    "ax.plot(X, Y3, linewidth=0,\n",
    "        marker='o', markerfacecolor='w', markeredgecolor='k')\n",
    "\n",
    "ax.set_title(\"Anatomy of a figure\", fontsize=20, verticalalignment='bottom')\n",
    "ax.set_xlabel(\"X axis label\")\n",
    "ax.set_ylabel(\"Y axis label\")\n",
    "\n",
    "ax.legend(loc=\"upper right\")\n",
    "\n",
    "\n",
    "def circle(x, y, radius=0.15):\n",
    "    from matplotlib.patches import Circle\n",
    "    from matplotlib.patheffects import withStroke\n",
    "    circle = Circle((x, y), radius, clip_on=False, zorder=10, linewidth=1,\n",
    "                    edgecolor='black', facecolor=(0, 0, 0, .0125),\n",
    "                    path_effects=[withStroke(linewidth=5, foreground='w')])\n",
    "    ax.add_artist(circle)\n",
    "\n",
    "\n",
    "def text(x, y, text):\n",
    "    ax.text(x, y, text, backgroundcolor=\"white\",\n",
    "            ha='center', va='top', weight='bold', color='blue')\n",
    "\n",
    "\n",
    "# Minor tick\n",
    "circle(0.50, -0.10)\n",
    "text(0.50, -0.32, \"Minor tick label\")\n",
    "\n",
    "# Major tick\n",
    "circle(-0.03, 4.00)\n",
    "text(0.03, 3.80, \"Major tick\")\n",
    "\n",
    "# Minor tick\n",
    "circle(0.00, 3.50)\n",
    "text(0.00, 3.30, \"Minor tick\")\n",
    "\n",
    "# Major tick label\n",
    "circle(-0.15, 3.00)\n",
    "text(-0.15, 2.80, \"Major tick label\")\n",
    "\n",
    "# X Label\n",
    "circle(1.80, -0.27)\n",
    "text(1.80, -0.45, \"X axis label\")\n",
    "\n",
    "# Y Label\n",
    "circle(-0.27, 1.80)\n",
    "text(-0.27, 1.6, \"Y axis label\")\n",
    "\n",
    "# Title\n",
    "circle(1.60, 4.13)\n",
    "text(1.60, 3.93, \"Title\")\n",
    "\n",
    "# Blue plot\n",
    "circle(1.75, 2.80)\n",
    "text(1.75, 2.60, \"Line\\n(line plot)\")\n",
    "\n",
    "# Red plot\n",
    "circle(1.20, 0.60)\n",
    "text(1.20, 0.40, \"Line\\n(line plot)\")\n",
    "\n",
    "# Scatter plot\n",
    "circle(3.20, 1.75)\n",
    "text(3.20, 1.55, \"Markers\\n(scatter plot)\")\n",
    "\n",
    "# Grid\n",
    "circle(3.00, 3.00)\n",
    "text(3.00, 2.80, \"Grid\")\n",
    "\n",
    "# Legend\n",
    "circle(3.70, 3.80)\n",
    "text(3.70, 3.60, \"Legend\")\n",
    "\n",
    "# Axes\n",
    "circle(0.5, 0.5)\n",
    "text(0.5, 0.3, \"Axes\")\n",
    "\n",
    "# Figure\n",
    "circle(-0.3, 0.65)\n",
    "text(-0.3, 0.45, \"Figure\")\n",
    "\n",
    "color = 'blue'\n",
    "ax.annotate('Spines', xy=(4.0, 0.35), xytext=(3.3, 0.5),\n",
    "            weight='bold', color=color,\n",
    "            arrowprops=dict(arrowstyle='->',\n",
    "                            connectionstyle=\"arc3\",\n",
    "                            color=color))\n",
    "\n",
    "ax.annotate('', xy=(3.15, 0.0), xytext=(3.45, 0.45),\n",
    "            weight='bold', color=color,\n",
    "            arrowprops=dict(arrowstyle='->',\n",
    "                            connectionstyle=\"arc3\",\n",
    "                            color=color))\n",
    "\n",
    "ax.text(4.0, -0.4, \"Made with https://matplotlib.org\",\n",
    "        fontsize=10, ha=\"right\", color='.5')\n",
    "\n",
    "plt.show()"
   ]
  },
  {
   "cell_type": "markdown",
   "id": "78a72f37",
   "metadata": {},
   "source": [
    "## Gráfico básico"
   ]
  },
  {
   "cell_type": "code",
   "execution_count": 4,
   "id": "22b0208d",
   "metadata": {
    "scrolled": true
   },
   "outputs": [
    {
     "data": {
      "image/png": "[encoded data removed]",
      "text/plain": [
       "<Figure size 640x480 with 1 Axes>"
      ]
     },
     "metadata": {},
     "output_type": "display_data"
    }
   ],
   "source": [
    "import matplotlib.pyplot as plt\n",
    "\n",
    "plt.plot([9,2])\n",
    "plt.plot([20,13])\n",
    "plt.title('Gráfico básico')\n",
    "plt.xlabel('Este es el eje X')\n",
    "plt.ylabel('Este es el eje y')\n",
    "plt.show()"
   ]
  },
  {
   "cell_type": "markdown",
   "id": "724f009d",
   "metadata": {},
   "source": [
    "## Tipos de archivo de texto\n",
    "### `.txt`\n",
    "Un archivo TXT es un archivo de texto sin formato que no requiere de ningún programa especial para su creación y apertura. Para abrir un archivo TXT, la mayoría de los sistemas operativos ofrecen programas de procesamiento de textos.\n",
    "Los archivos TXT sirven como almacenes de información a la vez que evitan las complicaciones propias de otros formatos de archivo.\n",
    "### `.csv`\n",
    "Las siglas CSV vienen del inglés \"Comma Separated Values\" y significan valores separados por comas. \n",
    "Los archivos CSV sirven para manejar una gran cantidad de datos en formato tabla, sin que ello conlleve sobrecoste computacional alguno.\n",
    "### `.xlsx`\n",
    "Los archivos CSV sirven para manejar una gran cantidad de datos en formato tabla, sin que ello conlleve sobrecoste computacional alguno.\n",
    "Los archivos XLSX se comprimen automáticamente al guardarse, así una hoja de trabajo xlsx es hasta 75 por ciento más pequeño que un documento xls que tiene los mismos datos."
   ]
  },
  {
   "cell_type": "markdown",
   "id": "2b8d117e",
   "metadata": {},
   "source": [
    "### Parámetros de `.loadtxt()`\n",
    "\n",
    "|**Parámetro**|**Descripción**|\n",
    "|-------------|---------------|\n",
    "|`fname`|Nombre del archivo|\n",
    "|`dtype`|Tipo de dato del array resultante|\n",
    "|`comments`|Caracteres o lista de caracteres usados para indicar el inicio de un comentario|\n",
    "|`delimiter`|La cadena usada para separar valores. Por deffault es cualquier espacio en blanco.|\n",
    "|`converters`| Un número de columna de asignación de diccionario a una función que analizará la cadena de columna en el valor deseado. Valor predeterminado: None|\n",
    "|`skiprows`|Saltarse las primeras columnas, incluyendo comentarios, default: 0|\n",
    "|`usecols`|Los índices de columnas a leer|\n",
    "|`unpack`|Si es `True`, la matriz devuelta se transpone, por lo que los argumentos se pueden desempaquetar usando x, y, z = loadtxt(…).|\n",
    "|`ndmin`|El número mínimo de dimensiones de la matriz devuelta|\n",
    "|`encoding`|Codificación utilizada para decodificar el archivo de entrada.|\n",
    "|`maxrows`|El número máximo de filas para leer después de las líneas salteadas.|"
   ]
  },
  {
   "cell_type": "markdown",
   "id": "01f577d6",
   "metadata": {},
   "source": [
    "## Lectura de datos a partir de un archivo de texto\n",
    "La funcipon `.loadtxt()` en Numpy se utiliza para cargar los datos de un archivo de texto y guardarlos en un `ndarray`. El propósito de esta función es ser un lector rápido para archivos simples de texto. Cada fila en el archivo de texto debe de tener el mismo número de valores. "
   ]
  },
  {
   "cell_type": "code",
   "execution_count": 2,
   "id": "b6b319c0",
   "metadata": {},
   "outputs": [
    {
     "name": "stdout",
     "output_type": "stream",
     "text": [
      "[ 1.  1.  2.  4.  3.  9.  4. 16.  5. 25.]\n",
      "16.0\n"
     ]
    }
   ],
   "source": [
    "import numpy as np\n",
    "\n",
    "datos = np.loadtxt('test.txt',delimiter=',')\n",
    "print(datos)\n",
    "\n",
    "print(datos[7])"
   ]
  },
  {
   "cell_type": "code",
   "execution_count": 6,
   "id": "2b06f325",
   "metadata": {},
   "outputs": [
    {
     "name": "stdout",
     "output_type": "stream",
     "text": [
      "[[ 1.  1.]\n",
      " [ 2.  4.]\n",
      " [ 3.  9.]\n",
      " [ 4. 16.]\n",
      " [ 5. 25.]]\n"
     ]
    }
   ],
   "source": [
    "datos = datos.reshape(5,2)\n",
    "print(datos)"
   ]
  },
  {
   "cell_type": "code",
   "execution_count": 7,
   "id": "1c03d0d9",
   "metadata": {},
   "outputs": [
    {
     "name": "stdout",
     "output_type": "stream",
     "text": [
      "[1. 2. 3. 4. 5.]\n",
      "[ 1.  4.  9. 16. 25.]\n"
     ]
    }
   ],
   "source": [
    "x = datos[:,0]\n",
    "y = datos[:,1]\n",
    "print(x)\n",
    "print(y)"
   ]
  },
  {
   "cell_type": "code",
   "execution_count": 9,
   "id": "a6764d14",
   "metadata": {},
   "outputs": [
    {
     "data": {
      "image/png": "[encoded data removed]",
      "text/plain": [
       "<Figure size 640x480 with 1 Axes>"
      ]
     },
     "metadata": {},
     "output_type": "display_data"
    }
   ],
   "source": [
    "import matplotlib.pyplot as plt\n",
    "\n",
    "plt.plot(x,y)\n",
    "plt.title('Lectura TXT')\n",
    "plt.xlabel('Este es el eje X')\n",
    "plt.ylabel('Este es el eje y')\n",
    "plt.show()"
   ]
  },
  {
   "cell_type": "markdown",
   "id": "a14ef1f5",
   "metadata": {},
   "source": [
    "## Lectura de datos a partir de un archivo CSV (Archivo separado por comas)"
   ]
  },
  {
   "cell_type": "code",
   "execution_count": 10,
   "id": "b4ef5ec1",
   "metadata": {},
   "outputs": [],
   "source": [
    "import numpy as np\n",
    "\n",
    "x,y=np.loadtxt('test.csv',unpack=True,usecols=(0,1),delimiter=',')"
   ]
  },
  {
   "cell_type": "code",
   "execution_count": 11,
   "id": "a771a1fd",
   "metadata": {},
   "outputs": [
    {
     "name": "stdout",
     "output_type": "stream",
     "text": [
      "[1. 2. 3. 4. 5.]\n",
      "[ 1.  4.  9. 16. 25.]\n"
     ]
    }
   ],
   "source": [
    "print(x)\n",
    "print(y)"
   ]
  },
  {
   "cell_type": "code",
   "execution_count": 12,
   "id": "3e94869c",
   "metadata": {},
   "outputs": [
    {
     "data": {
      "image/png": "[encoded data removed]",
      "text/plain": [
       "<Figure size 640x480 with 1 Axes>"
      ]
     },
     "metadata": {},
     "output_type": "display_data"
    }
   ],
   "source": [
    "import matplotlib.pyplot as plt\n",
    "\n",
    "plt.plot(x,y)\n",
    "plt.title('Lectura csv')\n",
    "plt.xlabel('Este es el eje X')\n",
    "plt.ylabel('Este es el eje y')\n",
    "plt.show()"
   ]
  },
  {
   "cell_type": "markdown",
   "id": "a3151b5e",
   "metadata": {},
   "source": [
    "## Lectura de datos a partir de un archivo de Excel `.xlsx`"
   ]
  },
  {
   "cell_type": "code",
   "execution_count": 25,
   "id": "0b4aae94",
   "metadata": {},
   "outputs": [
    {
     "name": "stdout",
     "output_type": "stream",
     "text": [
      "   0    1\n",
      "0  1  788\n",
      "1  2   65\n",
      "2  3    1\n",
      "3  4   88\n",
      "4  5   64\n"
     ]
    }
   ],
   "source": [
    "import numpy as np\n",
    "import pandas as pd\n",
    "\n",
    "dato_temp=pd.read_excel('test.xlsx','Manzana',header=None)\n",
    "print(dato_temp)"
   ]
  },
  {
   "cell_type": "code",
   "execution_count": 19,
   "id": "0ca4b473",
   "metadata": {},
   "outputs": [
    {
     "data": {
      "text/plain": [
       "pandas.core.frame.DataFrame"
      ]
     },
     "execution_count": 19,
     "metadata": {},
     "output_type": "execute_result"
    }
   ],
   "source": [
    "type(dato_temp)"
   ]
  },
  {
   "cell_type": "code",
   "execution_count": 26,
   "id": "9ba10504",
   "metadata": {},
   "outputs": [
    {
     "name": "stdout",
     "output_type": "stream",
     "text": [
      "[[  1 788]\n",
      " [  2  65]\n",
      " [  3   1]\n",
      " [  4  88]\n",
      " [  5  64]]\n"
     ]
    }
   ],
   "source": [
    "datos=np.array(dato_temp)\n",
    "print(datos)"
   ]
  },
  {
   "cell_type": "code",
   "execution_count": 21,
   "id": "165308eb",
   "metadata": {},
   "outputs": [
    {
     "data": {
      "text/plain": [
       "numpy.ndarray"
      ]
     },
     "execution_count": 21,
     "metadata": {},
     "output_type": "execute_result"
    }
   ],
   "source": [
    "type(datos)"
   ]
  },
  {
   "cell_type": "code",
   "execution_count": 27,
   "id": "f8ca849f",
   "metadata": {},
   "outputs": [
    {
     "name": "stdout",
     "output_type": "stream",
     "text": [
      "[1 2 3 4 5]\n",
      "[788  65   1  88  64]\n"
     ]
    }
   ],
   "source": [
    "#x = datos[:,0]\n",
    "#y = datos[:,1]\n",
    "x,y = datos[:,0],datos[:,1]\n",
    "print(x)\n",
    "print(y)"
   ]
  },
  {
   "cell_type": "code",
   "execution_count": 28,
   "id": "58e2dceb",
   "metadata": {},
   "outputs": [
    {
     "data": {
      "image/png": "[encoded data removed]",
      "text/plain": [
       "<Figure size 640x480 with 1 Axes>"
      ]
     },
     "metadata": {},
     "output_type": "display_data"
    }
   ],
   "source": [
    "import matplotlib.pyplot as plt\n",
    "\n",
    "plt.plot(x,y)\n",
    "plt.title('Lectura Excel')\n",
    "plt.xlabel('Este es el eje X')\n",
    "plt.ylabel('Este es el eje y')\n",
    "plt.show()"
   ]
  },
  {
   "cell_type": "markdown",
   "id": "4dbe09ae-5d7b-4194-8204-953317b28156",
   "metadata": {
    "tags": []
   },
   "source": [
    "## Gráfica con fechas"
   ]
  },
  {
   "cell_type": "markdown",
   "id": "c7fca12b",
   "metadata": {},
   "source": [
    "### `pd.to_datetime`\n",
    "Convierte la representación en cade de una fehca en un formato de fecha.\n",
    "\n",
    "\n",
    "|**Format**|**Description**|**Examples**|\n",
    "|-----------|---------------|------------|\n",
    "|%a\t|Weekday, abbreviated\t|Mon, Tues, Sat|\n",
    "|%A\t|Weekday, full name |Monday, Tuesday, Saturday|\n",
    "|%w\t|Weekday, decimal. 0=Sunday\t|1, 2, 6|\n",
    "|%d\t|Day of month, zero-padded\t|01, 02, 21|\n",
    "|%b\t|Month, abbreviated\t|Jan, Feb, Sep|\n",
    "|%B\t|Month, full name\t|January, February, September|\n",
    "|%m\t|Month number, zero-padded\t|01, 02, 09|\n",
    "|%y\t|Year, without century, zero-padded\t|02, 95, 99|\n",
    "|%Y\t|Year, with century\t|1990, 2020|\n",
    "|%H\t|Hour (24 hour), zero padded\t|01, 22|\n",
    "|%I\t|Hour (12 hour) zero padded\t|01, 12|\n",
    "|%p\t|AM or PM\t|AM, PM|\n",
    "|%M\t|Minute, zero-padded\t|01, 02, 43|\n",
    "|%S\t|Second, zero padded\t|01, 32, 59|\n",
    "|%f\t|Microsecond, zero-padded\t|000001, 000342, 999999|\n",
    "|%z\t|UTC offset ±HHMM[SS[.ffffff]]\t|+0000, -1030, -3423.234|\n",
    "|%Z\t|Time zone name\t|ITC, EST, CST|\n",
    "|%j\t|Day of year, zero-padded\t|001, 365, 023|\n",
    "|%U\t|Week # of year, zero-padded. Sunday first day of week\t|00, 01, 51|\n",
    "|%W\t|Week # of year, zero-padded. Monday first day of week\t|00, 02, 51|\n",
    "|%c\t|Appropriate date and time\t|Monday Feb 01 21:30:00 1990|\n",
    "|%x\t|Appropriate Date\t|02/01/90|\n",
    "|%X\t|Appropriate Time\t|21:22:00|\n",
    "|%%\t|Literal '%' – Use this when you have a % sign in your format.\t|%|"
   ]
  },
  {
   "cell_type": "code",
   "execution_count": 12,
   "id": "be2eb445",
   "metadata": {
    "tags": []
   },
   "outputs": [
    {
     "data": {
      "image/png": "[encoded data removed]",
      "text/plain": [
       "<Figure size 640x480 with 1 Axes>"
      ]
     },
     "metadata": {},
     "output_type": "display_data"
    }
   ],
   "source": [
    "import matplotlib.pyplot as plt\n",
    "import pandas as pd\n",
    "\n",
    "stock = pd.read_csv('GOOG.csv', header = None, delimiter = ',')\n",
    "stock.columns = ['Fechas','Precio']#generar distintas columnas \n",
    "stock['Fechas']= pd.to_datetime(stock['Fechas'],format='%d-%m-%Y')\n",
    "indexed_stock = stock.set_index('Fechas')\n",
    "t = indexed_stock['Precio']\n",
    "\n",
    "plt.plot(t)\n",
    "plt.xticks(rotation=90)\n",
    "plt.show()"
   ]
  },
  {
   "cell_type": "code",
   "execution_count": 2,
   "id": "47dc8611-07c4-4a1e-b576-666cac72b8d6",
   "metadata": {
    "tags": []
   },
   "outputs": [
    {
     "name": "stdout",
     "output_type": "stream",
     "text": [
      "[*********************100%***********************]  1 of 1 completed\n"
     ]
    },
    {
     "data": {
      "image/png": "[encoded data removed]",
      "text/plain": [
       "<Figure size 640x480 with 1 Axes>"
      ]
     },
     "metadata": {},
     "output_type": "display_data"
    }
   ],
   "source": [
    "import yfinance as yf\n",
    "import matplotlib.pyplot as plt\n",
    " \n",
    "data = yf.download('AAPL','2022-10-01','2023-01-01')\n",
    "data.Close.plot()\n",
    "plt.xticks(rotation=75)     # new line added for 3.0\n",
    " \n",
    "plt.show();"
   ]
  },
  {
   "attachments": {
    "c8abefc9-8092-4741-b038-dff436b60e29.png": {
     "image/png": "[encoded data removed]"
    }
   },
   "cell_type": "markdown",
   "id": "7a039c59-e8bc-4193-9aa1-1cdff094cd48",
   "metadata": {},
   "source": [
    "![image.png](attachment:c8abefc9-8092-4741-b038-dff436b60e29.png)"
   ]
  },
  {
   "cell_type": "code",
   "execution_count": 3,
   "id": "0b6a72c3-9e41-47c9-8568-ec940133a95a",
   "metadata": {},
   "outputs": [
    {
     "name": "stdout",
     "output_type": "stream",
     "text": [
      "[*********************100%***********************]  1 of 1 completed\n"
     ]
    },
    {
     "data": {
      "image/png": "[encoded data removed]",
      "text/plain": [
       "<Figure size 640x480 with 1 Axes>"
      ]
     },
     "metadata": {},
     "output_type": "display_data"
    }
   ],
   "source": [
    "import yfinance as yf\n",
    "import matplotlib.pyplot as plt\n",
    " \n",
    "data = yf.download('TSLA','2022-04-25','2023-04-25')\n",
    "data.Close.plot()\n",
    "plt.xticks(rotation=75)     # new line added for 3.0\n",
    " \n",
    "plt.show();"
   ]
  },
  {
   "cell_type": "markdown",
   "id": "78b888e5",
   "metadata": {},
   "source": [
    "## Gráfica de barras"
   ]
  },
  {
   "cell_type": "code",
   "execution_count": 20,
   "id": "fc13d3ef",
   "metadata": {
    "scrolled": true
   },
   "outputs": [
    {
     "data": {
      "image/png": "[encoded data removed]",
      "text/plain": [
       "<Figure size 640x480 with 1 Axes>"
      ]
     },
     "metadata": {},
     "output_type": "display_data"
    }
   ],
   "source": [
    "import matplotlib.pyplot as plt\n",
    "import numpy as np\n",
    "import calendar \n",
    "\n",
    "num_meses = [1,2,3,4,5,6,7,8,9,10,11,12]\n",
    "ventas = [825, 501, 864, 972, 624, 619, 503, 945, 568, 933, 667, 864]#rango de 500 a 1000\n",
    "\n",
    "plt.bar(num_meses,ventas)\n",
    "plt.title('Ventas')\n",
    "plt.xlabel('Meses')\n",
    "plt.ylabel('Ventas')\n",
    "plt.show()"
   ]
  },
  {
   "cell_type": "code",
   "execution_count": 13,
   "id": "4237dd27",
   "metadata": {},
   "outputs": [
    {
     "data": {
      "image/png": "[encoded data removed]",
      "text/plain": [
       "<Figure size 640x480 with 1 Axes>"
      ]
     },
     "metadata": {},
     "output_type": "display_data"
    }
   ],
   "source": [
    "import matplotlib.pyplot as plt\n",
    "import numpy as np\n",
    "import calendar \n",
    "\n",
    "num_meses = [1,2,3,4,5,6,7,8,9,10,11,12]\n",
    "ventas = [825, 501, 864, 972, 624, 619, 503, 945, 568, 933, 667, 864]#rango de 500 a 1000\n",
    "\n",
    "#plt.plot(num_meses,ventas)\n",
    "#plt.title('Ventas')\n",
    "#plt.xlabel('Meses')\n",
    "#plt.ylabel('Ventas')\n",
    "#plt.show()\n",
    "\n",
    "fig, ax = plt.subplots()\n",
    "plt.xticks(num_meses, calendar.month_name[1:13], rotation= 45)\n",
    "grafico = ax.bar(num_meses,ventas)\n",
    "plt.show()"
   ]
  },
  {
   "cell_type": "markdown",
   "id": "99871f92",
   "metadata": {},
   "source": [
    "## Grafico de manera horizontal."
   ]
  },
  {
   "cell_type": "code",
   "execution_count": 19,
   "id": "a0799875",
   "metadata": {},
   "outputs": [
    {
     "data": {
      "image/png": "[encoded data removed]",
      "text/plain": [
       "<Figure size 640x480 with 1 Axes>"
      ]
     },
     "metadata": {},
     "output_type": "display_data"
    }
   ],
   "source": [
    "import matplotlib.pyplot as plt\n",
    "import numpy as np\n",
    "import calendar \n",
    "\n",
    "num_meses = [1,2,3,4,5,6,7,8,9,10,11,12]\n",
    "ventas = [825, 501, 864, 972, 624, 619, 503, 945, 568, 933, 667, 864]#rango de 500 a 1000\n",
    "\n",
    "#plt.plot(num_meses,ventas)\n",
    "#plt.title('Ventas')\n",
    "#plt.xlabel('Meses')\n",
    "#plt.ylabel('Ventas')\n",
    "#plt.show()\n",
    "\n",
    "fig, ax = plt.subplots()\n",
    "plt.yticks(num_meses,calendar.month_name[1:13],rotation= 45)\n",
    "grafico = ax.barh(num_meses,ventas)\n",
    "plt.show()"
   ]
  },
  {
   "cell_type": "code",
   "execution_count": 15,
   "id": "1173f266",
   "metadata": {
    "scrolled": true
   },
   "outputs": [
    {
     "name": "stdout",
     "output_type": "stream",
     "text": [
      "Rectangle(xy=(0.6, 0), width=0.8, height=825, angle=0)\n",
      "Rectangle(xy=(1.6, 0), width=0.8, height=501, angle=0)\n",
      "Rectangle(xy=(2.6, 0), width=0.8, height=864, angle=0)\n",
      "Rectangle(xy=(3.6, 0), width=0.8, height=972, angle=0)\n",
      "Rectangle(xy=(4.6, 0), width=0.8, height=624, angle=0)\n",
      "Rectangle(xy=(5.6, 0), width=0.8, height=619, angle=0)\n",
      "Rectangle(xy=(6.6, 0), width=0.8, height=503, angle=0)\n",
      "Rectangle(xy=(7.6, 0), width=0.8, height=945, angle=0)\n",
      "Rectangle(xy=(8.6, 0), width=0.8, height=568, angle=0)\n",
      "Rectangle(xy=(9.6, 0), width=0.8, height=933, angle=0)\n",
      "Rectangle(xy=(10.6, 0), width=0.8, height=667, angle=0)\n",
      "Rectangle(xy=(11.6, 0), width=0.8, height=864, angle=0)\n"
     ]
    },
    {
     "data": {
      "image/png": "[encoded data removed]",
      "text/plain": [
       "<Figure size 640x480 with 1 Axes>"
      ]
     },
     "metadata": {},
     "output_type": "display_data"
    }
   ],
   "source": [
    "import matplotlib.pyplot as plt\n",
    "import numpy as np\n",
    "import calendar \n",
    "\n",
    "num_meses = [1,2,3,4,5,6,7,8,9,10,11,12]\n",
    "ventas = [825, 501, 864, 972, 624, 619, 503, 945, 568, 933, 667, 864]#rango de 500 a 1000\n",
    "\n",
    "fig, ax = plt.subplots()\n",
    "plt.xticks(num_meses, calendar.month_name[1:13], rotation= 45)\n",
    "grafico = ax.bar(num_meses,ventas)\n",
    "\n",
    "for r in grafico: # lee la información del gráfico (en donde comienza, ancho, altura, ángulo)\n",
    "    print(r)\n",
    "  #  ax.text(0.6, 825, '825')\n",
    "   # ax.text(1.6, 501, '501')\n",
    "\n",
    "for r in grafico:\n",
    "    altura = r.get_height() # tenemos la altura\n",
    "    # print(altura) Muestra una lista con los valores de ventas(altura)\n",
    "    cord_x = r.get_x() + r.get_width() /2  # encontrando el centro de la gráfica\n",
    "    cord_y = altura + 1.002 # Altura del texto \n",
    "    texto = str(altura)\n",
    "    ax.text(cord_x, cord_y, texto, ha = 'center', va = 'bottom')\n",
    "    \n",
    "plt.show()"
   ]
  },
  {
   "cell_type": "code",
   "execution_count": 39,
   "id": "0820a666",
   "metadata": {},
   "outputs": [
    {
     "data": {
      "image/png": "[encoded data removed]",
      "text/plain": [
       "<Figure size 640x480 with 1 Axes>"
      ]
     },
     "metadata": {},
     "output_type": "display_data"
    }
   ],
   "source": [
    "import matplotlib.pyplot as plt\n",
    "import numpy as np\n",
    "import calendar \n",
    "\n",
    "num_meses = [1,2,3,4,5,6,7,8,9,10,11,12]\n",
    "ventas = [825, 501, 864, 972, 624, 619, 503, 945, 568, 933, 667, 864]#rango de 500 a 1000\n",
    "\n",
    "fig, ax = plt.subplots()\n",
    "plt.xticks(num_meses, calendar.month_name[1:13], rotation= 45)\n",
    "grafico = ax.bar(num_meses,ventas)\n",
    "\n",
    "ax.bar_label(grafico)\n",
    "    \n",
    "plt.show()"
   ]
  },
  {
   "cell_type": "code",
   "execution_count": 38,
   "id": "ea429550",
   "metadata": {},
   "outputs": [
    {
     "data": {
      "image/png": "[encoded data removed]",
      "text/plain": [
       "<Figure size 640x480 with 1 Axes>"
      ]
     },
     "metadata": {},
     "output_type": "display_data"
    }
   ],
   "source": [
    "import matplotlib.pyplot as plt\n",
    "import numpy as np\n",
    "import calendar \n",
    "\n",
    "num_meses = [1,2,3,4,5,6,7,8,9,10,11,12]\n",
    "ventas = [825, 501, 864, 972, 624, 619, 503, 945, 568, 933, 667, 864]#rango de 500 a 1000\n",
    "\n",
    "fig, ax = plt.subplots()\n",
    "plt.yticks(num_meses,calendar.month_name[1:13],rotation= 45)\n",
    "grafico = ax.barh(num_meses,ventas)\n",
    "\n",
    "ax.bar_label(grafico)\n",
    "\n",
    "plt.show()"
   ]
  },
  {
   "cell_type": "markdown",
   "id": "7a0362ce",
   "metadata": {},
   "source": [
    "## Gráficos scatter "
   ]
  },
  {
   "cell_type": "code",
   "execution_count": 22,
   "id": "6ed6e463",
   "metadata": {},
   "outputs": [
    {
     "data": {
      "image/png": "[encoded data removed]",
      "text/plain": [
       "<Figure size 640x480 with 1 Axes>"
      ]
     },
     "metadata": {},
     "output_type": "display_data"
    }
   ],
   "source": [
    "import matplotlib.pyplot as plt\n",
    "import numpy as np\n",
    "import pandas as pd \n",
    "\n",
    "iris = pd.read_csv('iris_dataset.csv', delimiter = ',')\n",
    "iris['species'] = iris['species'].map({'setosa':0, 'versicolor':1, 'virginica':2}) \n",
    "plt.scatter(iris.petal_length, iris.petal_width, c = iris.species)\n",
    "plt.show()"
   ]
  },
  {
   "cell_type": "code",
   "execution_count": null,
   "id": "06a4e413",
   "metadata": {},
   "outputs": [],
   "source": []
  }
 ],
 "metadata": {
  "kernelspec": {
   "display_name": "Python 3 (ipykernel)",
   "language": "python",
   "name": "python3"
  },
  "language_info": {
   "codemirror_mode": {
    "name": "ipython",
    "version": 3
   },
   "file_extension": ".py",
   "mimetype": "text/x-python",
   "name": "python",
   "nbconvert_exporter": "python",
   "pygments_lexer": "ipython3",
   "version": "3.9.13"
  }
 },
 "nbformat": 4,
 "nbformat_minor": 5
}
